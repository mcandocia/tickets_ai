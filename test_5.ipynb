{
 "cells": [
  {
   "cell_type": "markdown",
   "metadata": {},
   "source": [
    "# Improvement Trial With Better Discount/Skip Connections\n",
    "\n",
    "I added skip connections to the second-to-last layers, as well as wrote a better decision code to optimize decisionmaking."
   ]
  },
  {
   "cell_type": "code",
   "execution_count": 1,
   "metadata": {},
   "outputs": [
    {
     "name": "stderr",
     "output_type": "stream",
     "text": [
      "Using TensorFlow backend.\n"
     ]
    }
   ],
   "source": [
    "from constants import *\n",
    "from copy import deepcopy\n",
    "from random import shuffle\n",
    "from game import Game\n",
    "import numpy as np\n",
    "import sys"
   ]
  },
  {
   "cell_type": "code",
   "execution_count": 2,
   "metadata": {},
   "outputs": [],
   "source": [
    "#game is now using lag=1 instead of lag=2 for q-score\n",
    "#maybe this will help guide it to higher point values in short term, \n",
    "#with less opportunities for probabilities straying\n",
    "test_config = deepcopy(DEFAULT_GAME_CONFIG)\n",
    "test_config['memory'] = 1\n",
    "test_config['discount'] = 0.01\n",
    "\n",
    "init_game = Game(n_players=5, q_lag=1, config=test_config)\n",
    "#goal: eventually train players to not want to grab more tickets\n",
    "\n",
    "players = init_game.players\n",
    "#former will be shuffled\n",
    "player_list = [p for p in players]\n",
    "overall_player_wins = []\n",
    "overall_player_scores = []\n",
    "overall_winning_scores = []\n",
    "overall_game_turns = []\n",
    "\n"
   ]
  },
  {
   "cell_type": "code",
   "execution_count": 3,
   "metadata": {},
   "outputs": [
    {
     "name": "stdout",
     "output_type": "stream",
     "text": [
      "TEMPERATURE: 0.500\n",
      "in cycle 0\n",
      "............................................................in cycle 1\n",
      "............................................................in cycle 2\n",
      "............................................................WINNING SCORE AVERAGE: -6.8\n",
      "NUMBER OF TURNS AVERAGE: 313.5\n",
      "---PLAYER 0 STATS---\n",
      "WIN AVERAGE: 0.050\n",
      "SCORE AVERAGE: -52.5\n",
      "---PLAYER 1 STATS---\n",
      "WIN AVERAGE: 0.439\n",
      "SCORE AVERAGE: -20.9\n",
      "---PLAYER 2 STATS---\n",
      "WIN AVERAGE: 0.289\n",
      "SCORE AVERAGE: -28.6\n",
      "---PLAYER 3 STATS---\n",
      "WIN AVERAGE: 0.150\n",
      "SCORE AVERAGE: -36.1\n",
      "---PLAYER 4 STATS---\n",
      "WIN AVERAGE: 0.089\n",
      "SCORE AVERAGE: -41.4\n",
      "TEMPERATURE: 0.200\n",
      "in cycle 0\n",
      "............................................................in cycle 1\n",
      "............................................................in cycle 2\n",
      "............................................................WINNING SCORE AVERAGE: 4.6\n",
      "NUMBER OF TURNS AVERAGE: 282.5\n",
      "---PLAYER 0 STATS---\n",
      "WIN AVERAGE: 0.028\n",
      "SCORE AVERAGE: -53.6\n",
      "---PLAYER 1 STATS---\n",
      "WIN AVERAGE: 0.733\n",
      "SCORE AVERAGE: -0.8\n",
      "---PLAYER 2 STATS---\n",
      "WIN AVERAGE: 0.067\n",
      "SCORE AVERAGE: -42.5\n",
      "---PLAYER 3 STATS---\n",
      "WIN AVERAGE: 0.072\n",
      "SCORE AVERAGE: -42.1\n",
      "---PLAYER 4 STATS---\n",
      "WIN AVERAGE: 0.117\n",
      "SCORE AVERAGE: -40.4\n",
      "TEMPERATURE: 0.100\n",
      "in cycle 0\n",
      "............................................................in cycle 1\n",
      "............................................................in cycle 2\n",
      "............................................................WINNING SCORE AVERAGE: 24.6\n",
      "NUMBER OF TURNS AVERAGE: 247.7\n",
      "---PLAYER 0 STATS---\n",
      "WIN AVERAGE: 0.006\n",
      "SCORE AVERAGE: -58.4\n",
      "---PLAYER 1 STATS---\n",
      "WIN AVERAGE: 0.961\n",
      "SCORE AVERAGE: 24.2\n",
      "---PLAYER 2 STATS---\n",
      "WIN AVERAGE: 0.000\n",
      "SCORE AVERAGE: -48.5\n",
      "---PLAYER 3 STATS---\n",
      "WIN AVERAGE: 0.011\n",
      "SCORE AVERAGE: -48.0\n",
      "---PLAYER 4 STATS---\n",
      "WIN AVERAGE: 0.022\n",
      "SCORE AVERAGE: -50.0\n",
      "TEMPERATURE: 0.100\n",
      "in cycle 0\n",
      "............................................................in cycle 1\n",
      "............................................................in cycle 2\n",
      "............................................................WINNING SCORE AVERAGE: 27.5\n",
      "NUMBER OF TURNS AVERAGE: 249.0\n",
      "---PLAYER 0 STATS---\n",
      "WIN AVERAGE: 0.011\n",
      "SCORE AVERAGE: -61.2\n",
      "---PLAYER 1 STATS---\n",
      "WIN AVERAGE: 0.928\n",
      "SCORE AVERAGE: 26.0\n",
      "---PLAYER 2 STATS---\n",
      "WIN AVERAGE: 0.039\n",
      "SCORE AVERAGE: -45.5\n",
      "---PLAYER 3 STATS---\n",
      "WIN AVERAGE: 0.017\n",
      "SCORE AVERAGE: -47.1\n",
      "---PLAYER 4 STATS---\n",
      "WIN AVERAGE: 0.011\n",
      "SCORE AVERAGE: -49.4\n",
      "TEMPERATURE: 0.050\n",
      "in cycle 0\n",
      "............................................................in cycle 1\n",
      "............................................................in cycle 2\n",
      "............................................................WINNING SCORE AVERAGE: 46.3\n",
      "NUMBER OF TURNS AVERAGE: 235.4\n",
      "---PLAYER 0 STATS---\n",
      "WIN AVERAGE: 0.006\n",
      "SCORE AVERAGE: -56.0\n",
      "---PLAYER 1 STATS---\n",
      "WIN AVERAGE: 0.961\n",
      "SCORE AVERAGE: 45.5\n",
      "---PLAYER 2 STATS---\n",
      "WIN AVERAGE: 0.017\n",
      "SCORE AVERAGE: -50.5\n",
      "---PLAYER 3 STATS---\n",
      "WIN AVERAGE: 0.011\n",
      "SCORE AVERAGE: -50.2\n",
      "---PLAYER 4 STATS---\n",
      "WIN AVERAGE: 0.006\n",
      "SCORE AVERAGE: -52.3\n",
      "TEMPERATURE: 0.010\n",
      "in cycle 0\n",
      "............................................................in cycle 1\n",
      "............................................................in cycle 2\n",
      "............................................................WINNING SCORE AVERAGE: 59.3\n",
      "NUMBER OF TURNS AVERAGE: 227.8\n",
      "---PLAYER 0 STATS---\n",
      "WIN AVERAGE: 0.000\n",
      "SCORE AVERAGE: -52.1\n",
      "---PLAYER 1 STATS---\n",
      "WIN AVERAGE: 0.994\n",
      "SCORE AVERAGE: 59.3\n",
      "---PLAYER 2 STATS---\n",
      "WIN AVERAGE: 0.000\n",
      "SCORE AVERAGE: -50.0\n",
      "---PLAYER 3 STATS---\n",
      "WIN AVERAGE: 0.000\n",
      "SCORE AVERAGE: -50.3\n",
      "---PLAYER 4 STATS---\n",
      "WIN AVERAGE: 0.006\n",
      "SCORE AVERAGE: -52.6\n",
      "TEMPERATURE: 0.010\n",
      "in cycle 0\n",
      "............................................................in cycle 1\n",
      "............................................................in cycle 2\n",
      "............................................................WINNING SCORE AVERAGE: 60.4\n",
      "NUMBER OF TURNS AVERAGE: 223.6\n",
      "---PLAYER 0 STATS---\n",
      "WIN AVERAGE: 0.011\n",
      "SCORE AVERAGE: -53.7\n",
      "---PLAYER 1 STATS---\n",
      "WIN AVERAGE: 0.989\n",
      "SCORE AVERAGE: 60.3\n",
      "---PLAYER 2 STATS---\n",
      "WIN AVERAGE: 0.006\n",
      "SCORE AVERAGE: -49.9\n",
      "---PLAYER 3 STATS---\n",
      "WIN AVERAGE: 0.000\n",
      "SCORE AVERAGE: -51.5\n",
      "---PLAYER 4 STATS---\n",
      "WIN AVERAGE: 0.000\n",
      "SCORE AVERAGE: -53.8\n",
      "TEMPERATURE: 0.000\n",
      "in cycle 0\n",
      "........................."
     ]
    },
    {
     "ename": "KeyboardInterrupt",
     "evalue": "",
     "output_type": "error",
     "traceback": [
      "\u001b[0;31m---------------------------------------------------------------------------\u001b[0m",
      "\u001b[0;31mKeyboardInterrupt\u001b[0m                         Traceback (most recent call last)",
      "\u001b[0;32m<ipython-input-3-431728ef7161>\u001b[0m in \u001b[0;36m<module>\u001b[0;34m()\u001b[0m\n\u001b[1;32m     14\u001b[0m             \u001b[0mshuffle\u001b[0m\u001b[0;34m(\u001b[0m\u001b[0mplayers\u001b[0m\u001b[0;34m)\u001b[0m\u001b[0;34m\u001b[0m\u001b[0m\n\u001b[1;32m     15\u001b[0m             \u001b[0mgame\u001b[0m \u001b[0;34m=\u001b[0m \u001b[0mGame\u001b[0m\u001b[0;34m(\u001b[0m\u001b[0mpre_existing_players\u001b[0m\u001b[0;34m=\u001b[0m\u001b[0mplayers\u001b[0m\u001b[0;34m,\u001b[0m \u001b[0mconfig\u001b[0m\u001b[0;34m=\u001b[0m\u001b[0mtest_config\u001b[0m\u001b[0;34m)\u001b[0m\u001b[0;34m\u001b[0m\u001b[0m\n\u001b[0;32m---> 16\u001b[0;31m             \u001b[0mgame\u001b[0m\u001b[0;34m.\u001b[0m\u001b[0mrun\u001b[0m\u001b[0;34m(\u001b[0m\u001b[0;34m)\u001b[0m\u001b[0;34m\u001b[0m\u001b[0m\n\u001b[0m\u001b[1;32m     17\u001b[0m             \u001b[0;32mfor\u001b[0m \u001b[0mi\u001b[0m\u001b[0;34m,\u001b[0m \u001b[0mplayer\u001b[0m \u001b[0;32min\u001b[0m \u001b[0menumerate\u001b[0m\u001b[0;34m(\u001b[0m\u001b[0mplayer_list\u001b[0m\u001b[0;34m)\u001b[0m\u001b[0;34m:\u001b[0m\u001b[0;34m\u001b[0m\u001b[0m\n\u001b[1;32m     18\u001b[0m                 \u001b[0mplayer_wins\u001b[0m\u001b[0;34m[\u001b[0m\u001b[0mi\u001b[0m\u001b[0;34m]\u001b[0m\u001b[0;34m+=\u001b[0m \u001b[0mplayer\u001b[0m\u001b[0;34m.\u001b[0m\u001b[0mwin\u001b[0m\u001b[0;34m\u001b[0m\u001b[0m\n",
      "\u001b[0;32m/ntfsl/workspace/ticket_ai/game.pyc\u001b[0m in \u001b[0;36mrun\u001b[0;34m(self, debug)\u001b[0m\n\u001b[1;32m     70\u001b[0m                         \u001b[0mself\u001b[0m\u001b[0;34m.\u001b[0m\u001b[0mturn\u001b[0m \u001b[0;34m+=\u001b[0m \u001b[0;36m1\u001b[0m\u001b[0;34m\u001b[0m\u001b[0m\n\u001b[1;32m     71\u001b[0m                         \u001b[0;32mif\u001b[0m \u001b[0mdebug\u001b[0m\u001b[0;34m:\u001b[0m\u001b[0;34m\u001b[0m\u001b[0m\n\u001b[0;32m---> 72\u001b[0;31m                                 \u001b[0;32mprint\u001b[0m \u001b[0;34m'turn %d'\u001b[0m \u001b[0;34m%\u001b[0m \u001b[0mself\u001b[0m\u001b[0;34m.\u001b[0m\u001b[0mturn\u001b[0m\u001b[0;34m\u001b[0m\u001b[0m\n\u001b[0m\u001b[1;32m     73\u001b[0m                         \u001b[0mcurrent_player\u001b[0m \u001b[0;34m=\u001b[0m \u001b[0mself\u001b[0m\u001b[0;34m.\u001b[0m\u001b[0mplayers\u001b[0m\u001b[0;34m[\u001b[0m\u001b[0mself\u001b[0m\u001b[0;34m.\u001b[0m\u001b[0mturn\u001b[0m \u001b[0;34m%\u001b[0m \u001b[0mself\u001b[0m\u001b[0;34m.\u001b[0m\u001b[0mn_players\u001b[0m\u001b[0;34m]\u001b[0m\u001b[0;34m\u001b[0m\u001b[0m\n\u001b[1;32m     74\u001b[0m                         \u001b[0mcurrent_player\u001b[0m\u001b[0;34m.\u001b[0m\u001b[0mtake_turn\u001b[0m\u001b[0;34m(\u001b[0m\u001b[0;34m)\u001b[0m\u001b[0;34m\u001b[0m\u001b[0m\n",
      "\u001b[0;32m/ntfsl/workspace/ticket_ai/player.pyc\u001b[0m in \u001b[0;36mtake_turn\u001b[0;34m(self)\u001b[0m\n\u001b[1;32m    371\u001b[0m                         \u001b[0mself\u001b[0m\u001b[0;34m.\u001b[0m\u001b[0mbegin_selecting_tickets\u001b[0m\u001b[0;34m(\u001b[0m\u001b[0;34m)\u001b[0m\u001b[0;34m\u001b[0m\u001b[0m\n\u001b[1;32m    372\u001b[0m                 \u001b[0;32melif\u001b[0m \u001b[0maction\u001b[0m\u001b[0;34m==\u001b[0m\u001b[0;34m'should_build_tracks'\u001b[0m\u001b[0;34m:\u001b[0m\u001b[0;34m\u001b[0m\u001b[0m\n\u001b[0;32m--> 373\u001b[0;31m                         \u001b[0mdata\u001b[0m \u001b[0;34m=\u001b[0m \u001b[0mself\u001b[0m\u001b[0;34m.\u001b[0m\u001b[0mai\u001b[0m\u001b[0;34m.\u001b[0m\u001b[0mdecide_on_tracks\u001b[0m\u001b[0;34m(\u001b[0m\u001b[0mself\u001b[0m\u001b[0;34m,\u001b[0m \u001b[0mpossible_tracks\u001b[0m\u001b[0;34m)\u001b[0m\u001b[0;34m\u001b[0m\u001b[0m\n\u001b[0m\u001b[1;32m    374\u001b[0m                         \u001b[0msegment\u001b[0m \u001b[0;34m=\u001b[0m \u001b[0mTRACKS\u001b[0m\u001b[0;34m[\u001b[0m\u001b[0mdata\u001b[0m\u001b[0;34m[\u001b[0m\u001b[0;34m'index'\u001b[0m\u001b[0;34m]\u001b[0m\u001b[0;34m]\u001b[0m\u001b[0;34m\u001b[0m\u001b[0m\n\u001b[1;32m    375\u001b[0m                         \u001b[0mcost\u001b[0m \u001b[0;34m=\u001b[0m \u001b[0mdata\u001b[0m\u001b[0;34m[\u001b[0m\u001b[0;34m'cost'\u001b[0m\u001b[0;34m]\u001b[0m\u001b[0;34m\u001b[0m\u001b[0m\n",
      "\u001b[0;32m/ntfsl/workspace/ticket_ai/ai.pyc\u001b[0m in \u001b[0;36mdecide_on_tracks\u001b[0;34m(self, player, possible_tracks)\u001b[0m\n\u001b[1;32m    179\u001b[0m                 \u001b[0;31m#build tracks\u001b[0m\u001b[0;34m\u001b[0m\u001b[0;34m\u001b[0m\u001b[0m\n\u001b[1;32m    180\u001b[0m                 \u001b[0;32mif\u001b[0m \u001b[0mlen\u001b[0m\u001b[0;34m(\u001b[0m\u001b[0mpossible_tracks\u001b[0m\u001b[0;34m)\u001b[0m \u001b[0;34m>\u001b[0m \u001b[0;36m0\u001b[0m\u001b[0;34m:\u001b[0m\u001b[0;34m\u001b[0m\u001b[0m\n\u001b[0;32m--> 181\u001b[0;31m                         \u001b[0maction_types\u001b[0m\u001b[0;34m.\u001b[0m\u001b[0mappend\u001b[0m\u001b[0;34m(\u001b[0m\u001b[0;34m'should_build_tracks'\u001b[0m\u001b[0;34m)\u001b[0m\u001b[0;34m\u001b[0m\u001b[0m\n\u001b[0m\u001b[1;32m    182\u001b[0m                         \u001b[0maction_data\u001b[0m\u001b[0;34m.\u001b[0m\u001b[0mappend\u001b[0m\u001b[0;34m(\u001b[0m\u001b[0mNone\u001b[0m\u001b[0;34m)\u001b[0m\u001b[0;34m\u001b[0m\u001b[0m\n\u001b[1;32m    183\u001b[0m                         \u001b[0mserializations\u001b[0m\u001b[0;34m.\u001b[0m\u001b[0mappend\u001b[0m\u001b[0;34m(\u001b[0m\u001b[0mself\u001b[0m\u001b[0;34m.\u001b[0m\u001b[0mdecision_serialize\u001b[0m\u001b[0;34m(\u001b[0m\u001b[0mplayer\u001b[0m\u001b[0;34m,\u001b[0m\u001b[0;34m'SHOULD_BUILD_TRACKS'\u001b[0m\u001b[0;34m)\u001b[0m\u001b[0;34m)\u001b[0m\u001b[0;34m\u001b[0m\u001b[0m\n",
      "\u001b[0;32m/ntfsl/workspace/ticket_ai/ai.pyc\u001b[0m in \u001b[0;36mcalculate_q_scores\u001b[0;34m(self, serializations, player, ticket_combos)\u001b[0m\n\u001b[1;32m    321\u001b[0m \t\t\"\"\"\n\u001b[1;32m    322\u001b[0m                 \u001b[0;32mif\u001b[0m \u001b[0;32mnot\u001b[0m \u001b[0mticket_combos\u001b[0m\u001b[0;34m:\u001b[0m\u001b[0;34m\u001b[0m\u001b[0m\n\u001b[0;32m--> 323\u001b[0;31m                         \u001b[0mticket_serialization\u001b[0m \u001b[0;34m=\u001b[0m \u001b[0mplayer\u001b[0m\u001b[0;34m.\u001b[0m\u001b[0mbase_ticket_serialization\u001b[0m\u001b[0;34m[\u001b[0m\u001b[0;36m0\u001b[0m\u001b[0;34m]\u001b[0m\u001b[0;34m\u001b[0m\u001b[0m\n\u001b[0m\u001b[1;32m    324\u001b[0m                         \u001b[0mn_serializations\u001b[0m \u001b[0;34m=\u001b[0m \u001b[0mlen\u001b[0m\u001b[0;34m(\u001b[0m\u001b[0mserializations\u001b[0m\u001b[0;34m)\u001b[0m\u001b[0;34m\u001b[0m\u001b[0m\n\u001b[1;32m    325\u001b[0m                         \u001b[0;31m#print n_serializations\u001b[0m\u001b[0;34m\u001b[0m\u001b[0;34m\u001b[0m\u001b[0m\n",
      "\u001b[0;32m/usr/local/lib/python2.7/dist-packages/keras/engine/training.pyc\u001b[0m in \u001b[0;36mpredict\u001b[0;34m(self, x, batch_size, verbose, steps)\u001b[0m\n\u001b[1;32m   1763\u001b[0m         \u001b[0mf\u001b[0m \u001b[0;34m=\u001b[0m \u001b[0mself\u001b[0m\u001b[0;34m.\u001b[0m\u001b[0mpredict_function\u001b[0m\u001b[0;34m\u001b[0m\u001b[0m\n\u001b[1;32m   1764\u001b[0m         return self._predict_loop(f, ins, batch_size=batch_size,\n\u001b[0;32m-> 1765\u001b[0;31m                                   verbose=verbose, steps=steps)\n\u001b[0m\u001b[1;32m   1766\u001b[0m \u001b[0;34m\u001b[0m\u001b[0m\n\u001b[1;32m   1767\u001b[0m     def train_on_batch(self, x, y,\n",
      "\u001b[0;32m/usr/local/lib/python2.7/dist-packages/keras/engine/training.pyc\u001b[0m in \u001b[0;36m_predict_loop\u001b[0;34m(self, f, ins, batch_size, verbose, steps)\u001b[0m\n\u001b[1;32m   1297\u001b[0m                 \u001b[0;32melse\u001b[0m\u001b[0;34m:\u001b[0m\u001b[0;34m\u001b[0m\u001b[0m\n\u001b[1;32m   1298\u001b[0m                     \u001b[0mins_batch\u001b[0m \u001b[0;34m=\u001b[0m \u001b[0m_slice_arrays\u001b[0m\u001b[0;34m(\u001b[0m\u001b[0mins\u001b[0m\u001b[0;34m,\u001b[0m \u001b[0mbatch_ids\u001b[0m\u001b[0;34m)\u001b[0m\u001b[0;34m\u001b[0m\u001b[0m\n\u001b[0;32m-> 1299\u001b[0;31m                 \u001b[0mbatch_outs\u001b[0m \u001b[0;34m=\u001b[0m \u001b[0mf\u001b[0m\u001b[0;34m(\u001b[0m\u001b[0mins_batch\u001b[0m\u001b[0;34m)\u001b[0m\u001b[0;34m\u001b[0m\u001b[0m\n\u001b[0m\u001b[1;32m   1300\u001b[0m                 \u001b[0;32mif\u001b[0m \u001b[0;32mnot\u001b[0m \u001b[0misinstance\u001b[0m\u001b[0;34m(\u001b[0m\u001b[0mbatch_outs\u001b[0m\u001b[0;34m,\u001b[0m \u001b[0mlist\u001b[0m\u001b[0;34m)\u001b[0m\u001b[0;34m:\u001b[0m\u001b[0;34m\u001b[0m\u001b[0m\n\u001b[1;32m   1301\u001b[0m                     \u001b[0mbatch_outs\u001b[0m \u001b[0;34m=\u001b[0m \u001b[0;34m[\u001b[0m\u001b[0mbatch_outs\u001b[0m\u001b[0;34m]\u001b[0m\u001b[0;34m\u001b[0m\u001b[0m\n",
      "\u001b[0;32m/usr/local/lib/python2.7/dist-packages/keras/backend/tensorflow_backend.pyc\u001b[0m in \u001b[0;36m__call__\u001b[0;34m(self, inputs)\u001b[0m\n\u001b[1;32m   2350\u001b[0m         \u001b[0msession\u001b[0m \u001b[0;34m=\u001b[0m \u001b[0mget_session\u001b[0m\u001b[0;34m(\u001b[0m\u001b[0;34m)\u001b[0m\u001b[0;34m\u001b[0m\u001b[0m\n\u001b[1;32m   2351\u001b[0m         updated = session.run(fetches=fetches, feed_dict=feed_dict,\n\u001b[0;32m-> 2352\u001b[0;31m                               **self.session_kwargs)\n\u001b[0m\u001b[1;32m   2353\u001b[0m         \u001b[0;32mreturn\u001b[0m \u001b[0mupdated\u001b[0m\u001b[0;34m[\u001b[0m\u001b[0;34m:\u001b[0m\u001b[0mlen\u001b[0m\u001b[0;34m(\u001b[0m\u001b[0mself\u001b[0m\u001b[0;34m.\u001b[0m\u001b[0moutputs\u001b[0m\u001b[0;34m)\u001b[0m\u001b[0;34m]\u001b[0m\u001b[0;34m\u001b[0m\u001b[0m\n\u001b[1;32m   2354\u001b[0m \u001b[0;34m\u001b[0m\u001b[0m\n",
      "\u001b[0;32m/usr/local/lib/python2.7/dist-packages/tensorflow/python/client/session.pyc\u001b[0m in \u001b[0;36mrun\u001b[0;34m(self, fetches, feed_dict, options, run_metadata)\u001b[0m\n\u001b[1;32m    887\u001b[0m     \u001b[0;32mtry\u001b[0m\u001b[0;34m:\u001b[0m\u001b[0;34m\u001b[0m\u001b[0m\n\u001b[1;32m    888\u001b[0m       result = self._run(None, fetches, feed_dict, options_ptr,\n\u001b[0;32m--> 889\u001b[0;31m                          run_metadata_ptr)\n\u001b[0m\u001b[1;32m    890\u001b[0m       \u001b[0;32mif\u001b[0m \u001b[0mrun_metadata\u001b[0m\u001b[0;34m:\u001b[0m\u001b[0;34m\u001b[0m\u001b[0m\n\u001b[1;32m    891\u001b[0m         \u001b[0mproto_data\u001b[0m \u001b[0;34m=\u001b[0m \u001b[0mtf_session\u001b[0m\u001b[0;34m.\u001b[0m\u001b[0mTF_GetBuffer\u001b[0m\u001b[0;34m(\u001b[0m\u001b[0mrun_metadata_ptr\u001b[0m\u001b[0;34m)\u001b[0m\u001b[0;34m\u001b[0m\u001b[0m\n",
      "\u001b[0;32m/usr/local/lib/python2.7/dist-packages/tensorflow/python/client/session.pyc\u001b[0m in \u001b[0;36m_run\u001b[0;34m(self, handle, fetches, feed_dict, options, run_metadata)\u001b[0m\n\u001b[1;32m   1118\u001b[0m     \u001b[0;32mif\u001b[0m \u001b[0mfinal_fetches\u001b[0m \u001b[0;32mor\u001b[0m \u001b[0mfinal_targets\u001b[0m \u001b[0;32mor\u001b[0m \u001b[0;34m(\u001b[0m\u001b[0mhandle\u001b[0m \u001b[0;32mand\u001b[0m \u001b[0mfeed_dict_tensor\u001b[0m\u001b[0;34m)\u001b[0m\u001b[0;34m:\u001b[0m\u001b[0;34m\u001b[0m\u001b[0m\n\u001b[1;32m   1119\u001b[0m       results = self._do_run(handle, final_targets, final_fetches,\n\u001b[0;32m-> 1120\u001b[0;31m                              feed_dict_tensor, options, run_metadata)\n\u001b[0m\u001b[1;32m   1121\u001b[0m     \u001b[0;32melse\u001b[0m\u001b[0;34m:\u001b[0m\u001b[0;34m\u001b[0m\u001b[0m\n\u001b[1;32m   1122\u001b[0m       \u001b[0mresults\u001b[0m \u001b[0;34m=\u001b[0m \u001b[0;34m[\u001b[0m\u001b[0;34m]\u001b[0m\u001b[0;34m\u001b[0m\u001b[0m\n",
      "\u001b[0;32m/usr/local/lib/python2.7/dist-packages/tensorflow/python/client/session.pyc\u001b[0m in \u001b[0;36m_do_run\u001b[0;34m(self, handle, target_list, fetch_list, feed_dict, options, run_metadata)\u001b[0m\n\u001b[1;32m   1315\u001b[0m     \u001b[0;32mif\u001b[0m \u001b[0mhandle\u001b[0m \u001b[0;32mis\u001b[0m \u001b[0mNone\u001b[0m\u001b[0;34m:\u001b[0m\u001b[0;34m\u001b[0m\u001b[0m\n\u001b[1;32m   1316\u001b[0m       return self._do_call(_run_fn, self._session, feeds, fetches, targets,\n\u001b[0;32m-> 1317\u001b[0;31m                            options, run_metadata)\n\u001b[0m\u001b[1;32m   1318\u001b[0m     \u001b[0;32melse\u001b[0m\u001b[0;34m:\u001b[0m\u001b[0;34m\u001b[0m\u001b[0m\n\u001b[1;32m   1319\u001b[0m       \u001b[0;32mreturn\u001b[0m \u001b[0mself\u001b[0m\u001b[0;34m.\u001b[0m\u001b[0m_do_call\u001b[0m\u001b[0;34m(\u001b[0m\u001b[0m_prun_fn\u001b[0m\u001b[0;34m,\u001b[0m \u001b[0mself\u001b[0m\u001b[0;34m.\u001b[0m\u001b[0m_session\u001b[0m\u001b[0;34m,\u001b[0m \u001b[0mhandle\u001b[0m\u001b[0;34m,\u001b[0m \u001b[0mfeeds\u001b[0m\u001b[0;34m,\u001b[0m \u001b[0mfetches\u001b[0m\u001b[0;34m)\u001b[0m\u001b[0;34m\u001b[0m\u001b[0m\n",
      "\u001b[0;32m/usr/local/lib/python2.7/dist-packages/tensorflow/python/client/session.pyc\u001b[0m in \u001b[0;36m_do_call\u001b[0;34m(self, fn, *args)\u001b[0m\n\u001b[1;32m   1321\u001b[0m   \u001b[0;32mdef\u001b[0m \u001b[0m_do_call\u001b[0m\u001b[0;34m(\u001b[0m\u001b[0mself\u001b[0m\u001b[0;34m,\u001b[0m \u001b[0mfn\u001b[0m\u001b[0;34m,\u001b[0m \u001b[0;34m*\u001b[0m\u001b[0margs\u001b[0m\u001b[0;34m)\u001b[0m\u001b[0;34m:\u001b[0m\u001b[0;34m\u001b[0m\u001b[0m\n\u001b[1;32m   1322\u001b[0m     \u001b[0;32mtry\u001b[0m\u001b[0;34m:\u001b[0m\u001b[0;34m\u001b[0m\u001b[0m\n\u001b[0;32m-> 1323\u001b[0;31m       \u001b[0;32mreturn\u001b[0m \u001b[0mfn\u001b[0m\u001b[0;34m(\u001b[0m\u001b[0;34m*\u001b[0m\u001b[0margs\u001b[0m\u001b[0;34m)\u001b[0m\u001b[0;34m\u001b[0m\u001b[0m\n\u001b[0m\u001b[1;32m   1324\u001b[0m     \u001b[0;32mexcept\u001b[0m \u001b[0merrors\u001b[0m\u001b[0;34m.\u001b[0m\u001b[0mOpError\u001b[0m \u001b[0;32mas\u001b[0m \u001b[0me\u001b[0m\u001b[0;34m:\u001b[0m\u001b[0;34m\u001b[0m\u001b[0m\n\u001b[1;32m   1325\u001b[0m       \u001b[0mmessage\u001b[0m \u001b[0;34m=\u001b[0m \u001b[0mcompat\u001b[0m\u001b[0;34m.\u001b[0m\u001b[0mas_text\u001b[0m\u001b[0;34m(\u001b[0m\u001b[0me\u001b[0m\u001b[0;34m.\u001b[0m\u001b[0mmessage\u001b[0m\u001b[0;34m)\u001b[0m\u001b[0;34m\u001b[0m\u001b[0m\n",
      "\u001b[0;32m/usr/local/lib/python2.7/dist-packages/tensorflow/python/client/session.pyc\u001b[0m in \u001b[0;36m_run_fn\u001b[0;34m(session, feed_dict, fetch_list, target_list, options, run_metadata)\u001b[0m\n\u001b[1;32m   1300\u001b[0m           return tf_session.TF_Run(session, options,\n\u001b[1;32m   1301\u001b[0m                                    \u001b[0mfeed_dict\u001b[0m\u001b[0;34m,\u001b[0m \u001b[0mfetch_list\u001b[0m\u001b[0;34m,\u001b[0m \u001b[0mtarget_list\u001b[0m\u001b[0;34m,\u001b[0m\u001b[0;34m\u001b[0m\u001b[0m\n\u001b[0;32m-> 1302\u001b[0;31m                                    status, run_metadata)\n\u001b[0m\u001b[1;32m   1303\u001b[0m \u001b[0;34m\u001b[0m\u001b[0m\n\u001b[1;32m   1304\u001b[0m     \u001b[0;32mdef\u001b[0m \u001b[0m_prun_fn\u001b[0m\u001b[0;34m(\u001b[0m\u001b[0msession\u001b[0m\u001b[0;34m,\u001b[0m \u001b[0mhandle\u001b[0m\u001b[0;34m,\u001b[0m \u001b[0mfeed_dict\u001b[0m\u001b[0;34m,\u001b[0m \u001b[0mfetch_list\u001b[0m\u001b[0;34m)\u001b[0m\u001b[0;34m:\u001b[0m\u001b[0;34m\u001b[0m\u001b[0m\n",
      "\u001b[0;31mKeyboardInterrupt\u001b[0m: "
     ]
    }
   ],
   "source": [
    "temperatures = [0.5, 0.2, 0.1, 0.1, 0.05, 0.01, 0.01, 0., 0., 0., 0.]\n",
    "\n",
    "for temperature in temperatures:\n",
    "    print 'TEMPERATURE: %.03f' % temperature\n",
    "    test_config['temperature'] = temperature\n",
    "    player_wins = [0 for _ in players]\n",
    "    winning_scores = []\n",
    "    player_scores = [[] for _ in players]\n",
    "    game_turns = []\n",
    "    for cycle in range(3):\n",
    "        print 'in cycle %d' % cycle\n",
    "        for i in range(60):\n",
    "            sys.stdout.write('.')\n",
    "            shuffle(players)\n",
    "            game = Game(pre_existing_players=players, config=test_config)\n",
    "            game.run()\n",
    "            for i, player in enumerate(player_list):\n",
    "                player_wins[i]+= player.win\n",
    "                player_scores[i].append(player.total_points)\n",
    "            winning_scores.append(game.winning_score)\n",
    "            game_turns.append(game.turn)\n",
    "        #don't train player 0, train player 1 partially, and train players 2 and 3 much more\n",
    "        for i, player in enumerate(player_list):\n",
    "            if i==1:\n",
    "                player.ai.train_win()\n",
    "                player.ai.train_q()\n",
    "            elif i > 1:\n",
    "                player.ai.train_win(20)\n",
    "                player.ai.train_q(20)\n",
    "    for player in player_list:\n",
    "        player.ai.reset_history()\n",
    "    overall_player_wins.append(player_wins)\n",
    "    overall_player_scores.append(player_scores)\n",
    "    overall_winning_scores.append(winning_scores)\n",
    "    overall_game_turns.append(game_turns)\n",
    "    #print out some summaries\n",
    "    print 'WINNING SCORE AVERAGE: %.1f' % np.mean(winning_scores)\n",
    "    print 'NUMBER OF TURNS AVERAGE: %.1f' % np.mean(game_turns)\n",
    "    for i, player in enumerate(player_list):\n",
    "        print '---PLAYER %d STATS---' % i\n",
    "        print 'WIN AVERAGE: %.3f' % (np.mean(player_wins[i])/180.)\n",
    "        print 'SCORE AVERAGE: %.1f' % np.mean(player_scores[i])\n",
    "        "
   ]
  },
  {
   "cell_type": "markdown",
   "metadata": {},
   "source": [
    "It appears that player 1 is performing reasonably well. The difference between 10 and 20 epochs may be large because most of the network is shared by the win and q-score calculations. Reducing the epochs between them may stablize results, as would separating the networks into two separate ones (GPU resources are fairly inexpensive for me, anyway)."
   ]
  },
  {
   "cell_type": "code",
   "execution_count": null,
   "metadata": {},
   "outputs": [],
   "source": []
  },
  {
   "cell_type": "code",
   "execution_count": null,
   "metadata": {},
   "outputs": [],
   "source": [
    "game.tickets"
   ]
  },
  {
   "cell_type": "code",
   "execution_count": 4,
   "metadata": {},
   "outputs": [
    {
     "data": {
      "text/plain": [
       "array([ -6.79444444,   4.62777778,  24.63888889,  27.49444444,\n",
       "        46.32777778,  59.32222222,  60.43333333])"
      ]
     },
     "execution_count": 4,
     "metadata": {},
     "output_type": "execute_result"
    }
   ],
   "source": [
    "np.mean(overall_winning_scores,1)"
   ]
  },
  {
   "cell_type": "code",
   "execution_count": 5,
   "metadata": {},
   "outputs": [
    {
     "data": {
      "text/plain": [
       "array([[-52.5       , -20.94444444, -28.56111111, -36.15      , -41.4       ],\n",
       "       [-53.61666667,  -0.77777778, -42.50555556, -42.15      ,\n",
       "        -40.42222222],\n",
       "       [-58.43888889,  24.16111111, -48.52777778, -48.05      ,\n",
       "        -49.96666667],\n",
       "       [-61.2       ,  25.97222222, -45.48888889, -47.06666667,\n",
       "        -49.37222222],\n",
       "       [-55.98888889,  45.53333333, -50.45      , -50.22777778,\n",
       "        -52.33888889],\n",
       "       [-52.12777778,  59.28333333, -49.96666667, -50.32222222,\n",
       "        -52.61111111],\n",
       "       [-53.72777778,  60.28333333, -49.93333333, -51.55      ,\n",
       "        -53.77777778]])"
      ]
     },
     "execution_count": 5,
     "metadata": {},
     "output_type": "execute_result"
    }
   ],
   "source": [
    "np.mean(overall_player_scores, ( 2,))"
   ]
  },
  {
   "cell_type": "code",
   "execution_count": 6,
   "metadata": {},
   "outputs": [],
   "source": [
    "for i, player in enumerate(player_list):\n",
    "    player.ai.save_models('ai_h5/p%d_test005_%%s.h5' % i)"
   ]
  },
  {
   "cell_type": "markdown",
   "metadata": {},
   "source": [
    "not sure why all player scores improved for the last row...perhaps training should lower temperature more quickly"
   ]
  }
 ],
 "metadata": {
  "kernelspec": {
   "display_name": "Python 2",
   "language": "python",
   "name": "python2"
  },
  "language_info": {
   "codemirror_mode": {
    "name": "ipython",
    "version": 2
   },
   "file_extension": ".py",
   "mimetype": "text/x-python",
   "name": "python",
   "nbconvert_exporter": "python",
   "pygments_lexer": "ipython2",
   "version": "2.7.12"
  }
 },
 "nbformat": 4,
 "nbformat_minor": 2
}

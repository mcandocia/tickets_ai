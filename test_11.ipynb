{
 "cells": [
  {
   "cell_type": "markdown",
   "metadata": {},
   "source": [
    "# Improvement Trial With Longer Reward Delay\n",
    "\n",
    "I will increase the reward for delayed score. If this doesn't work, I will restart the trials, but use multiple lagged scores instead of recording win, because final score is what is being maximized anyway."
   ]
  },
  {
   "cell_type": "code",
   "execution_count": 1,
   "metadata": {},
   "outputs": [
    {
     "name": "stderr",
     "output_type": "stream",
     "text": [
      "Using TensorFlow backend.\n"
     ]
    }
   ],
   "source": [
    "import gpu_rec\n",
    "from constants import *\n",
    "from copy import deepcopy\n",
    "from random import shuffle\n",
    "from game import Game\n",
    "import numpy as np\n",
    "import sys"
   ]
  },
  {
   "cell_type": "code",
   "execution_count": 2,
   "metadata": {},
   "outputs": [],
   "source": [
    "#game is now using lag=1 instead of lag=2 for q-score\n",
    "#maybe this will help guide it to higher point values in short term, \n",
    "#with less opportunities for probabilities straying\n",
    "test_config = deepcopy(DEFAULT_GAME_CONFIG)\n",
    "test_config['memory'] = 1\n",
    "test_config['discount'] = 0.1\n",
    "\n",
    "init_game = Game(n_players=5, q_lag=4, config=test_config)\n",
    "#goal: eventually train players to not want to grab more tickets\n",
    "\n",
    "players = init_game.players\n",
    "#former will be shuffled\n",
    "player_list = [p for p in players]\n",
    "overall_player_wins = []\n",
    "overall_player_scores = []\n",
    "overall_winning_scores = []\n",
    "overall_game_turns = []\n",
    "\n",
    "for i, player in enumerate(player_list):\n",
    "    player.ai.load_models('ai_h5/p%d_test09_%%s.h5' % i)\n",
    "\n"
   ]
  },
  {
   "cell_type": "code",
   "execution_count": 3,
   "metadata": {},
   "outputs": [],
   "source": [
    "def which_min(x):\n",
    "    min_val = min(x)\n",
    "    return x.index(min_val)\n",
    "\n",
    "def which_max(x):\n",
    "    max_val = max(x)\n",
    "    return x.index(max_val)\n",
    "\n",
    "def aid_weakest_ai(players, wins):\n",
    "    players[which_min(wins)].ai.receive_models_from_other_ai(players[which_max(wins)].ai)\n",
    "    "
   ]
  },
  {
   "cell_type": "code",
   "execution_count": 4,
   "metadata": {},
   "outputs": [
    {
     "name": "stdout",
     "output_type": "stream",
     "text": [
      "---TEMPERATURE: 0.100---\n",
      "+IDX=0+\n",
      "in cycle 0\n",
      "............................................................................................................................................in cycle 1\n",
      "............................................................................................................................................in cycle 2\n",
      "............................................................................................................................................WINNING SCORE AVERAGE: 41.3\n",
      "NUMBER OF TURNS AVERAGE: 234.3\n",
      "---PLAYER 0 STATS---\n",
      "WIN AVERAGE: 0.000\n",
      "SCORE AVERAGE: -33.5\n",
      "---PLAYER 1 STATS---\n",
      "WIN AVERAGE: 0.257\n",
      "SCORE AVERAGE: 23.0\n",
      "---PLAYER 2 STATS---\n",
      "WIN AVERAGE: 0.281\n",
      "SCORE AVERAGE: 22.3\n",
      "---PLAYER 3 STATS---\n",
      "WIN AVERAGE: 0.264\n",
      "SCORE AVERAGE: 21.1\n",
      "---PLAYER 4 STATS---\n",
      "WIN AVERAGE: 0.226\n",
      "SCORE AVERAGE: 20.5\n",
      "---TEMPERATURE: 0.050---\n",
      "+IDX=1+\n",
      "in cycle 0\n",
      "............................................................................................................................................in cycle 1\n",
      "............................................................................................................................................in cycle 2\n",
      "............................................................................................................................................WINNING SCORE AVERAGE: 41.0\n",
      "NUMBER OF TURNS AVERAGE: 231.6\n",
      "---PLAYER 0 STATS---\n",
      "WIN AVERAGE: 0.000\n",
      "SCORE AVERAGE: -31.3\n",
      "---PLAYER 1 STATS---\n",
      "WIN AVERAGE: 0.245\n",
      "SCORE AVERAGE: 23.3\n",
      "---PLAYER 2 STATS---\n",
      "WIN AVERAGE: 0.271\n",
      "SCORE AVERAGE: 25.3\n",
      "---PLAYER 3 STATS---\n",
      "WIN AVERAGE: 0.255\n",
      "SCORE AVERAGE: 24.7\n",
      "---PLAYER 4 STATS---\n",
      "WIN AVERAGE: 0.255\n",
      "SCORE AVERAGE: 23.8\n",
      "---TEMPERATURE: 0.010---\n",
      "+IDX=2+\n",
      "in cycle 0\n",
      "."
     ]
    },
    {
     "name": "stderr",
     "output_type": "stream",
     "text": [
      "ai.py:414: RuntimeWarning: invalid value encountered in divide\n",
      "  return (selected)/np.sum(selected)\n"
     ]
    },
    {
     "name": "stdout",
     "output_type": "stream",
     "text": [
      "...................................................................................................."
     ]
    },
    {
     "name": "stderr",
     "output_type": "stream",
     "text": [
      "ai.py:386: RuntimeWarning: invalid value encountered in less\n",
      "  return np.random.choice(len(new_probs), p=new_probs)\n"
     ]
    },
    {
     "name": "stdout",
     "output_type": "stream",
     "text": [
      ".......................................in cycle 1\n",
      "............................................................................................................................................in cycle 2\n",
      "............................................................................................................................................WINNING SCORE AVERAGE: 44.1\n",
      "NUMBER OF TURNS AVERAGE: 226.5\n",
      "---PLAYER 0 STATS---\n",
      "WIN AVERAGE: 0.000\n",
      "SCORE AVERAGE: -25.2\n",
      "---PLAYER 1 STATS---\n",
      "WIN AVERAGE: 0.255\n",
      "SCORE AVERAGE: 26.6\n",
      "---PLAYER 2 STATS---\n",
      "WIN AVERAGE: 0.257\n",
      "SCORE AVERAGE: 25.7\n",
      "---PLAYER 3 STATS---\n",
      "WIN AVERAGE: 0.264\n",
      "SCORE AVERAGE: 26.9\n",
      "---PLAYER 4 STATS---\n",
      "WIN AVERAGE: 0.255\n",
      "SCORE AVERAGE: 26.7\n",
      "---TEMPERATURE: 0.010---\n",
      "+IDX=3+\n",
      "in cycle 0\n",
      "............................................................................................................................................in cycle 1\n",
      "............................................................................................................................................in cycle 2\n",
      "............................................................................................................................................WINNING SCORE AVERAGE: 43.6\n",
      "NUMBER OF TURNS AVERAGE: 225.7\n",
      "---PLAYER 0 STATS---\n",
      "WIN AVERAGE: 0.000\n",
      "SCORE AVERAGE: -25.7\n",
      "---PLAYER 1 STATS---\n",
      "WIN AVERAGE: 0.257\n",
      "SCORE AVERAGE: 26.2\n",
      "---PLAYER 2 STATS---\n",
      "WIN AVERAGE: 0.245\n",
      "SCORE AVERAGE: 26.3\n",
      "---PLAYER 3 STATS---\n",
      "WIN AVERAGE: 0.245\n",
      "SCORE AVERAGE: 26.8\n",
      "---PLAYER 4 STATS---\n",
      "WIN AVERAGE: 0.286\n",
      "SCORE AVERAGE: 28.0\n",
      "---TEMPERATURE: 0.001---\n",
      "+IDX=4+\n",
      "in cycle 0\n",
      "............................................................................................................................................in cycle 1\n",
      "............................................................................................................................................in cycle 2\n",
      "............................................................................................................................................WINNING SCORE AVERAGE: 51.8\n",
      "NUMBER OF TURNS AVERAGE: 219.7\n",
      "---PLAYER 0 STATS---\n",
      "WIN AVERAGE: 0.000\n",
      "SCORE AVERAGE: -19.6\n",
      "---PLAYER 1 STATS---\n",
      "WIN AVERAGE: 0.243\n",
      "SCORE AVERAGE: 32.0\n",
      "---PLAYER 2 STATS---\n",
      "WIN AVERAGE: 0.290\n",
      "SCORE AVERAGE: 33.0\n",
      "---PLAYER 3 STATS---\n",
      "WIN AVERAGE: 0.262\n",
      "SCORE AVERAGE: 31.7\n",
      "---PLAYER 4 STATS---\n",
      "WIN AVERAGE: 0.236\n",
      "SCORE AVERAGE: 31.7\n",
      "---TEMPERATURE: 0.000---\n",
      "+IDX=5+\n",
      "in cycle 0\n",
      "."
     ]
    },
    {
     "name": "stderr",
     "output_type": "stream",
     "text": [
      "ai.py:413: RuntimeWarning: overflow encountered in power\n",
      "  selected = x**(1./(temperature)**0.5)\n"
     ]
    },
    {
     "name": "stdout",
     "output_type": "stream",
     "text": [
      ".........................................................................................................................."
     ]
    },
    {
     "ename": "ValueError",
     "evalue": "probabilities do not sum to 1",
     "output_type": "error",
     "traceback": [
      "\u001b[0;31m---------------------------------------------------------------------------\u001b[0m",
      "\u001b[0;31mValueError\u001b[0m                                Traceback (most recent call last)",
      "\u001b[0;32m<ipython-input-4-15cc7484c3d2>\u001b[0m in \u001b[0;36m<module>\u001b[0;34m()\u001b[0m\n\u001b[1;32m     19\u001b[0m             \u001b[0mshuffle\u001b[0m\u001b[0;34m(\u001b[0m\u001b[0mplayers\u001b[0m\u001b[0;34m)\u001b[0m\u001b[0;34m\u001b[0m\u001b[0m\n\u001b[1;32m     20\u001b[0m             \u001b[0mgame\u001b[0m \u001b[0;34m=\u001b[0m \u001b[0mGame\u001b[0m\u001b[0;34m(\u001b[0m\u001b[0mpre_existing_players\u001b[0m\u001b[0;34m=\u001b[0m\u001b[0mplayers\u001b[0m\u001b[0;34m,\u001b[0m \u001b[0mconfig\u001b[0m\u001b[0;34m=\u001b[0m\u001b[0mtest_config\u001b[0m\u001b[0;34m,\u001b[0m \u001b[0mseparated_models\u001b[0m\u001b[0;34m=\u001b[0m\u001b[0mTrue\u001b[0m\u001b[0;34m)\u001b[0m\u001b[0;34m\u001b[0m\u001b[0m\n\u001b[0;32m---> 21\u001b[0;31m             \u001b[0mgame\u001b[0m\u001b[0;34m.\u001b[0m\u001b[0mrun\u001b[0m\u001b[0;34m(\u001b[0m\u001b[0mFalse\u001b[0m\u001b[0;34m)\u001b[0m\u001b[0;34m\u001b[0m\u001b[0m\n\u001b[0m\u001b[1;32m     22\u001b[0m             \u001b[0;32mfor\u001b[0m \u001b[0mi\u001b[0m\u001b[0;34m,\u001b[0m \u001b[0mplayer\u001b[0m \u001b[0;32min\u001b[0m \u001b[0menumerate\u001b[0m\u001b[0;34m(\u001b[0m\u001b[0mplayer_list\u001b[0m\u001b[0;34m)\u001b[0m\u001b[0;34m:\u001b[0m\u001b[0;34m\u001b[0m\u001b[0m\n\u001b[1;32m     23\u001b[0m                 \u001b[0mplayer_wins\u001b[0m\u001b[0;34m[\u001b[0m\u001b[0mi\u001b[0m\u001b[0;34m]\u001b[0m\u001b[0;34m+=\u001b[0m \u001b[0mplayer\u001b[0m\u001b[0;34m.\u001b[0m\u001b[0mwin\u001b[0m\u001b[0;34m\u001b[0m\u001b[0m\n",
      "\u001b[0;32m/ntfsl/workspace/ticket_ai/game.pyc\u001b[0m in \u001b[0;36mrun\u001b[0;34m(self, debug)\u001b[0m\n\u001b[1;32m     72\u001b[0m                                 \u001b[0;32mprint\u001b[0m \u001b[0;34m'turn %d'\u001b[0m \u001b[0;34m%\u001b[0m \u001b[0mself\u001b[0m\u001b[0;34m.\u001b[0m\u001b[0mturn\u001b[0m\u001b[0;34m\u001b[0m\u001b[0m\n\u001b[1;32m     73\u001b[0m                         \u001b[0mcurrent_player\u001b[0m \u001b[0;34m=\u001b[0m \u001b[0mself\u001b[0m\u001b[0;34m.\u001b[0m\u001b[0mplayers\u001b[0m\u001b[0;34m[\u001b[0m\u001b[0mself\u001b[0m\u001b[0;34m.\u001b[0m\u001b[0mturn\u001b[0m \u001b[0;34m%\u001b[0m \u001b[0mself\u001b[0m\u001b[0;34m.\u001b[0m\u001b[0mn_players\u001b[0m\u001b[0;34m]\u001b[0m\u001b[0;34m\u001b[0m\u001b[0m\n\u001b[0;32m---> 74\u001b[0;31m                         \u001b[0mcurrent_player\u001b[0m\u001b[0;34m.\u001b[0m\u001b[0mtake_turn\u001b[0m\u001b[0;34m(\u001b[0m\u001b[0;34m)\u001b[0m\u001b[0;34m\u001b[0m\u001b[0m\n\u001b[0m\u001b[1;32m     75\u001b[0m                         \u001b[0;32mif\u001b[0m \u001b[0mself\u001b[0m\u001b[0;34m.\u001b[0m\u001b[0mlast_round\u001b[0m\u001b[0;34m:\u001b[0m\u001b[0;34m\u001b[0m\u001b[0m\n\u001b[1;32m     76\u001b[0m                                 \u001b[0;32mif\u001b[0m \u001b[0mdebug\u001b[0m\u001b[0;34m:\u001b[0m\u001b[0;34m\u001b[0m\u001b[0m\n",
      "\u001b[0;32m/ntfsl/workspace/ticket_ai/player.pyc\u001b[0m in \u001b[0;36mtake_turn\u001b[0;34m(self)\u001b[0m\n\u001b[1;32m    371\u001b[0m                         \u001b[0mself\u001b[0m\u001b[0;34m.\u001b[0m\u001b[0mbegin_selecting_tickets\u001b[0m\u001b[0;34m(\u001b[0m\u001b[0;34m)\u001b[0m\u001b[0;34m\u001b[0m\u001b[0m\n\u001b[1;32m    372\u001b[0m                 \u001b[0;32melif\u001b[0m \u001b[0maction\u001b[0m\u001b[0;34m==\u001b[0m\u001b[0;34m'should_build_tracks'\u001b[0m\u001b[0;34m:\u001b[0m\u001b[0;34m\u001b[0m\u001b[0m\n\u001b[0;32m--> 373\u001b[0;31m                         \u001b[0mdata\u001b[0m \u001b[0;34m=\u001b[0m \u001b[0mself\u001b[0m\u001b[0;34m.\u001b[0m\u001b[0mai\u001b[0m\u001b[0;34m.\u001b[0m\u001b[0mdecide_on_tracks\u001b[0m\u001b[0;34m(\u001b[0m\u001b[0mself\u001b[0m\u001b[0;34m,\u001b[0m \u001b[0mpossible_tracks\u001b[0m\u001b[0;34m)\u001b[0m\u001b[0;34m\u001b[0m\u001b[0m\n\u001b[0m\u001b[1;32m    374\u001b[0m                         \u001b[0msegment\u001b[0m \u001b[0;34m=\u001b[0m \u001b[0mTRACKS\u001b[0m\u001b[0;34m[\u001b[0m\u001b[0mdata\u001b[0m\u001b[0;34m[\u001b[0m\u001b[0;34m'index'\u001b[0m\u001b[0;34m]\u001b[0m\u001b[0;34m]\u001b[0m\u001b[0;34m\u001b[0m\u001b[0m\n\u001b[1;32m    375\u001b[0m                         \u001b[0mcost\u001b[0m \u001b[0;34m=\u001b[0m \u001b[0mdata\u001b[0m\u001b[0;34m[\u001b[0m\u001b[0;34m'cost'\u001b[0m\u001b[0;34m]\u001b[0m\u001b[0;34m\u001b[0m\u001b[0m\n",
      "\u001b[0;32m/ntfsl/workspace/ticket_ai/ai.pyc\u001b[0m in \u001b[0;36mdecide_on_tracks\u001b[0;34m(self, player, possible_tracks)\u001b[0m\n\u001b[1;32m    231\u001b[0m                 \u001b[0;31m#make a decision based on both\u001b[0m\u001b[0;34m\u001b[0m\u001b[0;34m\u001b[0m\u001b[0m\n\u001b[1;32m    232\u001b[0m                 \u001b[0;31m#some player/game configs go into the algorithm\u001b[0m\u001b[0;34m\u001b[0m\u001b[0;34m\u001b[0m\u001b[0m\n\u001b[0;32m--> 233\u001b[0;31m                 \u001b[0mdecision_index\u001b[0m \u001b[0;34m=\u001b[0m \u001b[0mself\u001b[0m\u001b[0;34m.\u001b[0m\u001b[0mdecide_based_on_p_and_q\u001b[0m\u001b[0;34m(\u001b[0m\u001b[0mprobabilities\u001b[0m\u001b[0;34m,\u001b[0m \u001b[0mq_scores\u001b[0m\u001b[0;34m,\u001b[0m \u001b[0mplayer\u001b[0m\u001b[0;34m)\u001b[0m\u001b[0;34m\u001b[0m\u001b[0m\n\u001b[0m\u001b[1;32m    234\u001b[0m \u001b[0;34m\u001b[0m\u001b[0m\n\u001b[1;32m    235\u001b[0m                 \u001b[0;31m#record history and then return decision and related data\u001b[0m\u001b[0;34m\u001b[0m\u001b[0;34m\u001b[0m\u001b[0m\n",
      "\u001b[0;32m/ntfsl/workspace/ticket_ai/ai.pyc\u001b[0m in \u001b[0;36mdecide_based_on_p_and_q\u001b[0;34m(self, probabilities, q_scores, player)\u001b[0m\n\u001b[1;32m    384\u001b[0m \t\t\ttemperature)\n\u001b[1;32m    385\u001b[0m                 \u001b[0;31m#print new_probs\u001b[0m\u001b[0;34m\u001b[0m\u001b[0;34m\u001b[0m\u001b[0m\n\u001b[0;32m--> 386\u001b[0;31m                 \u001b[0;32mreturn\u001b[0m \u001b[0mnp\u001b[0m\u001b[0;34m.\u001b[0m\u001b[0mrandom\u001b[0m\u001b[0;34m.\u001b[0m\u001b[0mchoice\u001b[0m\u001b[0;34m(\u001b[0m\u001b[0mlen\u001b[0m\u001b[0;34m(\u001b[0m\u001b[0mnew_probs\u001b[0m\u001b[0;34m)\u001b[0m\u001b[0;34m,\u001b[0m \u001b[0mp\u001b[0m\u001b[0;34m=\u001b[0m\u001b[0mnew_probs\u001b[0m\u001b[0;34m)\u001b[0m\u001b[0;34m\u001b[0m\u001b[0m\n\u001b[0m\u001b[1;32m    387\u001b[0m \u001b[0;34m\u001b[0m\u001b[0m\n\u001b[1;32m    388\u001b[0m \u001b[0;32mdef\u001b[0m \u001b[0mvertical_repeat\u001b[0m\u001b[0;34m(\u001b[0m\u001b[0mvec\u001b[0m\u001b[0;34m,\u001b[0m \u001b[0mn\u001b[0m\u001b[0;34m)\u001b[0m\u001b[0;34m:\u001b[0m\u001b[0;34m\u001b[0m\u001b[0m\n",
      "\u001b[0;32mmtrand.pyx\u001b[0m in \u001b[0;36mmtrand.RandomState.choice\u001b[0;34m()\u001b[0m\n",
      "\u001b[0;31mValueError\u001b[0m: probabilities do not sum to 1"
     ]
    }
   ],
   "source": [
    "temperatures = [ 0.1, 0.05, 0.01, 0.01, 0.001, 0.00001, 0.00001, 0., 0., 0.]\n",
    "n_trials_per_cycle = 140\n",
    "n_cycles = 3\n",
    "\n",
    "for temp_index, temperature in enumerate(temperatures):\n",
    "    print '---TEMPERATURE: %.03f---' % temperature\n",
    "    print '+IDX=%d+' % temp_index\n",
    "    if temp_index > 2:\n",
    "        test_config['discount'] = 0.4\n",
    "    test_config['temperature'] = temperature\n",
    "    player_wins = [0 for _ in players]\n",
    "    winning_scores = []\n",
    "    player_scores = [[] for _ in players]\n",
    "    game_turns = []\n",
    "    for cycle in range(n_cycles):\n",
    "        print 'in cycle %d' % cycle\n",
    "        for i in range(n_trials_per_cycle):\n",
    "            sys.stdout.write('.')\n",
    "            shuffle(players)\n",
    "            game = Game(pre_existing_players=players, config=test_config, separated_models=True)\n",
    "            game.run(False)\n",
    "            for i, player in enumerate(player_list):\n",
    "                player_wins[i]+= player.win\n",
    "                player_scores[i].append(player.total_points)\n",
    "            winning_scores.append(game.winning_score)\n",
    "            game_turns.append(game.turn)\n",
    "        #don't train player 0, train player 1 partially, and train players 2 and 3 much more\n",
    "        for i, player in enumerate(player_list):\n",
    "            if i==1:\n",
    "                player.ai.train_win()\n",
    "                player.ai.train_q()\n",
    "            elif i > 1:\n",
    "                player.ai.train_win(20)\n",
    "                player.ai.train_q(20)\n",
    "    for player in player_list:\n",
    "        player.ai.reset_history()\n",
    "    aid_weakest_ai(player_list[1:], player_wins[1:])\n",
    "    overall_player_wins.append(player_wins)\n",
    "    overall_player_scores.append(player_scores)\n",
    "    overall_winning_scores.append(winning_scores)\n",
    "    overall_game_turns.append(game_turns)\n",
    "    #print out some summaries\n",
    "    print 'WINNING SCORE AVERAGE: %.1f' % np.mean(winning_scores)\n",
    "    print 'NUMBER OF TURNS AVERAGE: %.1f' % np.mean(game_turns)\n",
    "    for i, player in enumerate(player_list):\n",
    "        print '---PLAYER %d STATS---' % i\n",
    "        print 'WIN AVERAGE: %.3f' % (np.mean(player_wins[i])/(float(n_trials_per_cycle*n_cycles)))\n",
    "        print 'SCORE AVERAGE: %.1f' % np.mean(player_scores[i])\n",
    "        "
   ]
  },
  {
   "cell_type": "markdown",
   "metadata": {},
   "source": [
    "going to patch class method to avoid issues with probs not adding to 1; this will be updated in the main file, but I don't want to restart the kernel"
   ]
  },
  {
   "cell_type": "code",
   "execution_count": 12,
   "metadata": {},
   "outputs": [],
   "source": [
    "import new\n",
    "\n",
    "EPSILON = 1e-7\n",
    "\n",
    "def min_normalize(x, epsilon=EPSILON):\n",
    "\treturn (x - np.min(x))/(epsilon + np.max(x) - np.min(x))\n",
    "\n",
    "def normalize(x, temperature):\n",
    "\tif temperature < EPSILON:\n",
    "\t\tselected = x + EPSILON >=np.max(x)*1 \n",
    "\t\treturn (selected+EPSILON)/np.sum(selected+EPSILON)\n",
    "\telse:\n",
    "\t\tx = x + EPSILON \n",
    "\t\tselected = x**(1./(temperature)**0.5)\n",
    "\t\treturn (selected)/np.sum(selected)\n",
    "\n",
    "def PATCH_decide_based_on_p_and_q(self, probabilities, q_scores, player):\n",
    "\t\t\"\"\"\n",
    "\t\tuses temperature and discount parameters\n",
    "\t\t\"\"\"\n",
    "\t\ttemperature = player.game.config['temperature']\n",
    "\t\tdiscount = player.game.config['discount']\n",
    "\t\t#print probabilities \n",
    "\t\t#print q_scores \n",
    "\t\tnew_probs = normalize(probabilities * discount + (min_normalize(q_scores)),\n",
    "\t\t\ttemperature)\n",
    "\t\t#print new_probs\n",
    "\t\ttry:\n",
    "\t\t\treturn np.random.choice(len(new_probs), p=new_probs)\n",
    "\t\texcept ValueError:\n",
    "\t\t\treturn np.random.choice(len(new_probs))"
   ]
  },
  {
   "cell_type": "code",
   "execution_count": 14,
   "metadata": {},
   "outputs": [],
   "source": [
    "for player in player_list:\n",
    "    player.ai.decide_based_on_p_and_q = new.instancemethod(PATCH_decide_based_on_p_and_q, player.ai, None)"
   ]
  },
  {
   "cell_type": "code",
   "execution_count": null,
   "metadata": {},
   "outputs": [],
   "source": []
  },
  {
   "cell_type": "code",
   "execution_count": 15,
   "metadata": {},
   "outputs": [
    {
     "name": "stdout",
     "output_type": "stream",
     "text": [
      "---TEMPERATURE: 0.000---\n",
      "+IDX=0+\n",
      "in cycle 0\n",
      "............................................................................................................................................in cycle 1\n",
      "............................................................................................................................................in cycle 2\n",
      "............................................................................................................................................WINNING SCORE AVERAGE: 55.4\n",
      "NUMBER OF TURNS AVERAGE: 217.2\n",
      "---PLAYER 0 STATS---\n",
      "WIN AVERAGE: 0.000\n",
      "SCORE AVERAGE: -17.7\n",
      "---PLAYER 1 STATS---\n",
      "WIN AVERAGE: 0.252\n",
      "SCORE AVERAGE: 34.5\n",
      "---PLAYER 2 STATS---\n",
      "WIN AVERAGE: 0.260\n",
      "SCORE AVERAGE: 33.4\n",
      "---PLAYER 3 STATS---\n",
      "WIN AVERAGE: 0.250\n",
      "SCORE AVERAGE: 35.1\n",
      "---PLAYER 4 STATS---\n",
      "WIN AVERAGE: 0.286\n",
      "SCORE AVERAGE: 35.1\n",
      "---TEMPERATURE: 0.000---\n",
      "+IDX=1+\n",
      "in cycle 0\n",
      "............................................................................................................................................in cycle 1\n",
      "............................................................................................................................................in cycle 2\n",
      "............................................................................................................................................WINNING SCORE AVERAGE: 56.5\n",
      "NUMBER OF TURNS AVERAGE: 218.6\n",
      "---PLAYER 0 STATS---\n",
      "WIN AVERAGE: 0.000\n",
      "SCORE AVERAGE: -16.9\n",
      "---PLAYER 1 STATS---\n",
      "WIN AVERAGE: 0.252\n",
      "SCORE AVERAGE: 36.5\n",
      "---PLAYER 2 STATS---\n",
      "WIN AVERAGE: 0.281\n",
      "SCORE AVERAGE: 37.4\n",
      "---PLAYER 3 STATS---\n",
      "WIN AVERAGE: 0.262\n",
      "SCORE AVERAGE: 35.1\n",
      "---PLAYER 4 STATS---\n",
      "WIN AVERAGE: 0.224\n",
      "SCORE AVERAGE: 34.0\n",
      "---TEMPERATURE: 0.000---\n",
      "+IDX=2+\n",
      "in cycle 0\n",
      "............................................................................................................................................in cycle 1\n",
      "............................................................................................................................................in cycle 2\n",
      "............................................................................................................................................WINNING SCORE AVERAGE: 56.0\n",
      "NUMBER OF TURNS AVERAGE: 218.7\n",
      "---PLAYER 0 STATS---\n",
      "WIN AVERAGE: 0.000\n",
      "SCORE AVERAGE: -16.5\n",
      "---PLAYER 1 STATS---\n",
      "WIN AVERAGE: 0.250\n",
      "SCORE AVERAGE: 34.5\n",
      "---PLAYER 2 STATS---\n",
      "WIN AVERAGE: 0.248\n",
      "SCORE AVERAGE: 35.9\n",
      "---PLAYER 3 STATS---\n",
      "WIN AVERAGE: 0.271\n",
      "SCORE AVERAGE: 35.2\n",
      "---PLAYER 4 STATS---\n",
      "WIN AVERAGE: 0.257\n",
      "SCORE AVERAGE: 34.6\n"
     ]
    }
   ],
   "source": [
    "temperatures = [ 0., 0., 0.]\n",
    "n_trials_per_cycle = 140\n",
    "n_cycles = 3\n",
    "\n",
    "for temp_index, temperature in enumerate(temperatures):\n",
    "    print '---TEMPERATURE: %.03f---' % temperature\n",
    "    print '+IDX=%d+' % temp_index\n",
    "    #if temp_index > 2:\n",
    "    #    test_config['discount'] = 0.4\n",
    "    test_config['temperature'] = temperature\n",
    "    player_wins = [0 for _ in players]\n",
    "    winning_scores = []\n",
    "    player_scores = [[] for _ in players]\n",
    "    game_turns = []\n",
    "    for cycle in range(n_cycles):\n",
    "        print 'in cycle %d' % cycle\n",
    "        for i in range(n_trials_per_cycle):\n",
    "            sys.stdout.write('.')\n",
    "            shuffle(players)\n",
    "            game = Game(pre_existing_players=players, config=test_config, separated_models=True)\n",
    "            game.run(False)\n",
    "            for i, player in enumerate(player_list):\n",
    "                player_wins[i]+= player.win\n",
    "                player_scores[i].append(player.total_points)\n",
    "            winning_scores.append(game.winning_score)\n",
    "            game_turns.append(game.turn)\n",
    "        #don't train player 0, train player 1 partially, and train players 2 and 3 much more\n",
    "        for i, player in enumerate(player_list):\n",
    "            if i==1:\n",
    "                player.ai.train_win()\n",
    "                player.ai.train_q()\n",
    "            elif i > 1:\n",
    "                player.ai.train_win(20)\n",
    "                player.ai.train_q(20)\n",
    "    for player in player_list:\n",
    "        player.ai.reset_history()\n",
    "    aid_weakest_ai(player_list[1:], player_wins[1:])\n",
    "    overall_player_wins.append(player_wins)\n",
    "    overall_player_scores.append(player_scores)\n",
    "    overall_winning_scores.append(winning_scores)\n",
    "    overall_game_turns.append(game_turns)\n",
    "    #print out some summaries\n",
    "    print 'WINNING SCORE AVERAGE: %.1f' % np.mean(winning_scores)\n",
    "    print 'NUMBER OF TURNS AVERAGE: %.1f' % np.mean(game_turns)\n",
    "    for i, player in enumerate(player_list):\n",
    "        print '---PLAYER %d STATS---' % i\n",
    "        print 'WIN AVERAGE: %.3f' % (np.mean(player_wins[i])/(float(n_trials_per_cycle*n_cycles)))\n",
    "        print 'SCORE AVERAGE: %.1f' % np.mean(player_scores[i])\n",
    "        "
   ]
  },
  {
   "cell_type": "markdown",
   "metadata": {},
   "source": []
  },
  {
   "cell_type": "code",
   "execution_count": 17,
   "metadata": {},
   "outputs": [
    {
     "name": "stdout",
     "output_type": "stream",
     "text": [
      "215\n",
      "4\n",
      "2\n",
      "2\n",
      "player with 0/7 completed/uncompleted tickets, 44 train cards, 21 cars, and \n",
      "\t\t-32 total points\n",
      "66\n",
      "player with 0/2 completed/uncompleted tickets, 6 train cards, 1 cars, and \n",
      "\t\t48 total points\n",
      "5\n",
      "player with 0/6 completed/uncompleted tickets, 28 train cards, 9 cars, and \n",
      "\t\t5 total points\n",
      "73\n",
      "player with 0/2 completed/uncompleted tickets, 8 train cards, 1 cars, and \n",
      "\t\t33 total points\n",
      "5\n",
      "player with 0/2 completed/uncompleted tickets, 16 train cards, 15 cars, and \n",
      "\t\t51 total points\n",
      "76\n"
     ]
    }
   ],
   "source": [
    "print game.turn\n",
    "print i\n",
    "print cycle\n",
    "print temp_index\n",
    "for player in player_list:\n",
    "    print player\n",
    "    print len(player.determine_possible_tracks())"
   ]
  },
  {
   "cell_type": "code",
   "execution_count": 18,
   "metadata": {},
   "outputs": [
    {
     "data": {
      "text/plain": [
       "array([ 41.27619048,  41.05      ,  44.05238095,  43.63095238,\n",
       "        51.76190476,  55.35      ,  56.53095238,  56.05      ])"
      ]
     },
     "execution_count": 18,
     "metadata": {},
     "output_type": "execute_result"
    }
   ],
   "source": [
    "np.mean(overall_winning_scores,1)"
   ]
  },
  {
   "cell_type": "code",
   "execution_count": 19,
   "metadata": {},
   "outputs": [
    {
     "data": {
      "text/plain": [
       "array([[-33.50952381,  23.03333333,  22.33333333,  21.05      ,  20.5452381 ],\n",
       "       [-31.26904762,  23.30238095,  25.32857143,  24.68095238,\n",
       "         23.84047619],\n",
       "       [-25.17619048,  26.60714286,  25.7       ,  26.90238095,\n",
       "         26.66904762],\n",
       "       [-25.72380952,  26.19761905,  26.2547619 ,  26.82857143,\n",
       "         28.02380952],\n",
       "       [-19.64761905,  31.96904762,  32.96904762,  31.70952381,\n",
       "         31.71904762],\n",
       "       [-17.7047619 ,  34.53333333,  33.41428571,  35.10238095,\n",
       "         35.12619048],\n",
       "       [-16.93333333,  36.45238095,  37.41428571,  35.11190476,\n",
       "         33.99047619],\n",
       "       [-16.5452381 ,  34.46190476,  35.89047619,  35.21904762,\n",
       "         34.63571429]])"
      ]
     },
     "execution_count": 19,
     "metadata": {},
     "output_type": "execute_result"
    }
   ],
   "source": [
    "np.mean(overall_player_scores, ( 2,))"
   ]
  },
  {
   "cell_type": "code",
   "execution_count": 20,
   "metadata": {},
   "outputs": [],
   "source": [
    "for i, player in enumerate(player_list):\n",
    "    player.ai.save_models('ai_h5/p%d_test11_%%s.h5' % i)"
   ]
  },
  {
   "cell_type": "markdown",
   "metadata": {},
   "source": [
    "Right now the issue is that the AI sees no advantage to building longer tracks. I propose altering the win \"discount\" to a longer, but feasible lag, as well as adding extra lags for smaller track sizes so that the network can learn to build smaller paths first. This will increase computation overhead linearly, but memory overhead will only have a very modest increase."
   ]
  },
  {
   "cell_type": "code",
   "execution_count": null,
   "metadata": {},
   "outputs": [],
   "source": []
  },
  {
   "cell_type": "markdown",
   "metadata": {},
   "source": []
  }
 ],
 "metadata": {
  "kernelspec": {
   "display_name": "Python 2",
   "language": "python",
   "name": "python2"
  },
  "language_info": {
   "codemirror_mode": {
    "name": "ipython",
    "version": 2
   },
   "file_extension": ".py",
   "mimetype": "text/x-python",
   "name": "python",
   "nbconvert_exporter": "python",
   "pygments_lexer": "ipython2",
   "version": "2.7.12"
  }
 },
 "nbformat": 4,
 "nbformat_minor": 2
}

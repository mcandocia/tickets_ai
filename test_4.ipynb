{
 "cells": [
  {
   "cell_type": "markdown",
   "metadata": {},
   "source": [
    "# Improvement Trial\n",
    "\n",
    "Previously I forgot to manage memory properly, but this time I will also look at the score each player got in each game"
   ]
  },
  {
   "cell_type": "code",
   "execution_count": 1,
   "metadata": {},
   "outputs": [
    {
     "name": "stderr",
     "output_type": "stream",
     "text": [
      "Using TensorFlow backend.\n"
     ]
    }
   ],
   "source": [
    "from constants import *\n",
    "from copy import deepcopy\n",
    "from random import shuffle\n",
    "from game import Game\n",
    "import numpy as np"
   ]
  },
  {
   "cell_type": "code",
   "execution_count": 2,
   "metadata": {},
   "outputs": [
    {
     "name": "stdout",
     "output_type": "stream",
     "text": [
      "TEMPERATURE: 1.000\n",
      "in cycle 0\n",
      "in cycle 1\n",
      "in cycle 2\n",
      "WINNING SCORE AVERAGE: -1.1\n",
      "NUMBER OF TURNS AVERAGE: 381.1\n",
      "---PLAYER 0 STATS---\n"
     ]
    },
    {
     "ename": "TypeError",
     "evalue": "unsupported operand type(s) for /: 'str' and 'int'",
     "output_type": "error",
     "traceback": [
      "\u001b[0;31m---------------------------------------------------------------------------\u001b[0m",
      "\u001b[0;31mTypeError\u001b[0m                                 Traceback (most recent call last)",
      "\u001b[0;32m<ipython-input-2-b37ac710f398>\u001b[0m in \u001b[0;36m<module>\u001b[0;34m()\u001b[0m\n\u001b[1;32m     56\u001b[0m     \u001b[0;32mfor\u001b[0m \u001b[0mi\u001b[0m\u001b[0;34m,\u001b[0m \u001b[0mplayer\u001b[0m \u001b[0;32min\u001b[0m \u001b[0menumerate\u001b[0m\u001b[0;34m(\u001b[0m\u001b[0mplayer_list\u001b[0m\u001b[0;34m)\u001b[0m\u001b[0;34m:\u001b[0m\u001b[0;34m\u001b[0m\u001b[0m\n\u001b[1;32m     57\u001b[0m         \u001b[0;32mprint\u001b[0m \u001b[0;34m'---PLAYER %d STATS---'\u001b[0m \u001b[0;34m%\u001b[0m \u001b[0mi\u001b[0m\u001b[0;34m\u001b[0m\u001b[0m\n\u001b[0;32m---> 58\u001b[0;31m         \u001b[0;32mprint\u001b[0m \u001b[0;34m'WIN AVERAGE: %.3f'\u001b[0m \u001b[0;34m%\u001b[0m \u001b[0mnp\u001b[0m\u001b[0;34m.\u001b[0m\u001b[0mmean\u001b[0m\u001b[0;34m(\u001b[0m\u001b[0mplayer_wins\u001b[0m\u001b[0;34m[\u001b[0m\u001b[0mi\u001b[0m\u001b[0;34m]\u001b[0m\u001b[0;34m)\u001b[0m\u001b[0;34m/\u001b[0m\u001b[0;36m225\u001b[0m\u001b[0;34m\u001b[0m\u001b[0m\n\u001b[0m\u001b[1;32m     59\u001b[0m         \u001b[0;32mprint\u001b[0m \u001b[0;34m'SCORE AVERAGE: %.1f'\u001b[0m \u001b[0;34m%\u001b[0m \u001b[0mnp\u001b[0m\u001b[0;34m.\u001b[0m\u001b[0mmean\u001b[0m\u001b[0;34m(\u001b[0m\u001b[0mplayer_scores\u001b[0m\u001b[0;34m[\u001b[0m\u001b[0mi\u001b[0m\u001b[0;34m]\u001b[0m\u001b[0;34m)\u001b[0m\u001b[0;34m\u001b[0m\u001b[0m\n\u001b[1;32m     60\u001b[0m \u001b[0;34m\u001b[0m\u001b[0m\n",
      "\u001b[0;31mTypeError\u001b[0m: unsupported operand type(s) for /: 'str' and 'int'"
     ]
    }
   ],
   "source": [
    "#game is now using lag=1 instead of lag=2 for q-score\n",
    "#maybe this will help guide it to higher point values in short term, \n",
    "#with less opportunities for probabilities straying\n",
    "test_config = deepcopy(DEFAULT_GAME_CONFIG)\n",
    "test_config['memory'] = 1\n",
    "test_config['discount'] = 1.3\n",
    "\n",
    "init_game = Game(n_players=5, q_lag=1, config=test_config)\n",
    "#goal: eventually train players to not want to grab more tickets\n",
    "\n",
    "players = init_game.players\n",
    "#former will be shuffled\n",
    "player_list = [p for p in players]\n",
    "overall_player_wins = []\n",
    "overall_player_scores = []\n",
    "overall_winning_scores = []\n",
    "overall_game_turns = []\n",
    "\n"
   ]
  },
  {
   "cell_type": "code",
   "execution_count": 3,
   "metadata": {},
   "outputs": [
    {
     "name": "stdout",
     "output_type": "stream",
     "text": [
      "---PLAYER 0 STATS---\n",
      "WIN AVERAGE: 0.236\n",
      "SCORE AVERAGE: -24.8\n",
      "---PLAYER 1 STATS---\n",
      "WIN AVERAGE: 0.236\n",
      "SCORE AVERAGE: -25.1\n",
      "---PLAYER 2 STATS---\n",
      "WIN AVERAGE: 0.173\n",
      "SCORE AVERAGE: -28.2\n",
      "---PLAYER 3 STATS---\n",
      "WIN AVERAGE: 0.187\n",
      "SCORE AVERAGE: -26.0\n",
      "---PLAYER 4 STATS---\n",
      "WIN AVERAGE: 0.182\n",
      "SCORE AVERAGE: -25.4\n"
     ]
    }
   ],
   "source": [
    "for i, player in enumerate(player_list):\n",
    "        print '---PLAYER %d STATS---' % i\n",
    "        print 'WIN AVERAGE: %.3f' % (np.mean(player_wins[i])/225.)\n",
    "        print 'SCORE AVERAGE: %.1f' % np.mean(player_scores[i])"
   ]
  },
  {
   "cell_type": "code",
   "execution_count": 4,
   "metadata": {},
   "outputs": [
    {
     "name": "stdout",
     "output_type": "stream",
     "text": [
      "TEMPERATURE: 0.500\n",
      "in cycle 0\n",
      "in cycle 1\n",
      "in cycle 2\n",
      "WINNING SCORE AVERAGE: -1.9\n",
      "NUMBER OF TURNS AVERAGE: 376.7\n",
      "---PLAYER 0 STATS---\n",
      "WIN AVERAGE: 0.293\n",
      "SCORE AVERAGE: -22.6\n",
      "---PLAYER 1 STATS---\n",
      "WIN AVERAGE: 0.178\n",
      "SCORE AVERAGE: -29.0\n",
      "---PLAYER 2 STATS---\n",
      "WIN AVERAGE: 0.191\n",
      "SCORE AVERAGE: -25.9\n",
      "---PLAYER 3 STATS---\n",
      "WIN AVERAGE: 0.196\n",
      "SCORE AVERAGE: -27.0\n",
      "---PLAYER 4 STATS---\n",
      "WIN AVERAGE: 0.164\n",
      "SCORE AVERAGE: -29.1\n",
      "TEMPERATURE: 0.200\n",
      "in cycle 0\n",
      "in cycle 1\n",
      "in cycle 2\n",
      "WINNING SCORE AVERAGE: -2.7\n",
      "NUMBER OF TURNS AVERAGE: 378.7\n",
      "---PLAYER 0 STATS---\n",
      "WIN AVERAGE: 0.422\n",
      "SCORE AVERAGE: -17.4\n",
      "---PLAYER 1 STATS---\n",
      "WIN AVERAGE: 0.129\n",
      "SCORE AVERAGE: -30.0\n",
      "---PLAYER 2 STATS---\n",
      "WIN AVERAGE: 0.138\n",
      "SCORE AVERAGE: -29.1\n",
      "---PLAYER 3 STATS---\n",
      "WIN AVERAGE: 0.173\n",
      "SCORE AVERAGE: -27.8\n",
      "---PLAYER 4 STATS---\n",
      "WIN AVERAGE: 0.147\n",
      "SCORE AVERAGE: -28.7\n",
      "TEMPERATURE: 0.100\n",
      "in cycle 0\n",
      "in cycle 1\n",
      "in cycle 2\n",
      "WINNING SCORE AVERAGE: 1.8\n",
      "NUMBER OF TURNS AVERAGE: 496.5\n",
      "---PLAYER 0 STATS---\n",
      "WIN AVERAGE: 0.462\n",
      "SCORE AVERAGE: -13.1\n",
      "---PLAYER 1 STATS---\n",
      "WIN AVERAGE: 0.098\n",
      "SCORE AVERAGE: -32.1\n",
      "---PLAYER 2 STATS---\n",
      "WIN AVERAGE: 0.156\n",
      "SCORE AVERAGE: -29.1\n",
      "---PLAYER 3 STATS---\n",
      "WIN AVERAGE: 0.133\n",
      "SCORE AVERAGE: -28.9\n",
      "---PLAYER 4 STATS---\n",
      "WIN AVERAGE: 0.160\n",
      "SCORE AVERAGE: -27.8\n",
      "TEMPERATURE: 0.010\n",
      "in cycle 0\n"
     ]
    },
    {
     "ename": "KeyboardInterrupt",
     "evalue": "",
     "output_type": "error",
     "traceback": [
      "\u001b[0;31m---------------------------------------------------------------------------\u001b[0m",
      "\u001b[0;31mKeyboardInterrupt\u001b[0m                         Traceback (most recent call last)",
      "\u001b[0;32m<ipython-input-4-233529729c04>\u001b[0m in \u001b[0;36m<module>\u001b[0;34m()\u001b[0m\n\u001b[1;32m     13\u001b[0m             \u001b[0mshuffle\u001b[0m\u001b[0;34m(\u001b[0m\u001b[0mplayers\u001b[0m\u001b[0;34m)\u001b[0m\u001b[0;34m\u001b[0m\u001b[0m\n\u001b[1;32m     14\u001b[0m             \u001b[0mgame\u001b[0m \u001b[0;34m=\u001b[0m \u001b[0mGame\u001b[0m\u001b[0;34m(\u001b[0m\u001b[0mpre_existing_players\u001b[0m\u001b[0;34m=\u001b[0m\u001b[0mplayers\u001b[0m\u001b[0;34m,\u001b[0m \u001b[0mconfig\u001b[0m\u001b[0;34m=\u001b[0m\u001b[0mtest_config\u001b[0m\u001b[0;34m)\u001b[0m\u001b[0;34m\u001b[0m\u001b[0m\n\u001b[0;32m---> 15\u001b[0;31m             \u001b[0mgame\u001b[0m\u001b[0;34m.\u001b[0m\u001b[0mrun\u001b[0m\u001b[0;34m(\u001b[0m\u001b[0;34m)\u001b[0m\u001b[0;34m\u001b[0m\u001b[0m\n\u001b[0m\u001b[1;32m     16\u001b[0m             \u001b[0;32mfor\u001b[0m \u001b[0mi\u001b[0m\u001b[0;34m,\u001b[0m \u001b[0mplayer\u001b[0m \u001b[0;32min\u001b[0m \u001b[0menumerate\u001b[0m\u001b[0;34m(\u001b[0m\u001b[0mplayer_list\u001b[0m\u001b[0;34m)\u001b[0m\u001b[0;34m:\u001b[0m\u001b[0;34m\u001b[0m\u001b[0m\n\u001b[1;32m     17\u001b[0m                 \u001b[0mplayer_wins\u001b[0m\u001b[0;34m[\u001b[0m\u001b[0mi\u001b[0m\u001b[0;34m]\u001b[0m\u001b[0;34m+=\u001b[0m \u001b[0mplayer\u001b[0m\u001b[0;34m.\u001b[0m\u001b[0mwin\u001b[0m\u001b[0;34m\u001b[0m\u001b[0m\n",
      "\u001b[0;32m/ntfsl/workspace/ticket_ai/game.pyc\u001b[0m in \u001b[0;36mrun\u001b[0;34m(self, debug)\u001b[0m\n\u001b[1;32m     70\u001b[0m                                 \u001b[0;32mprint\u001b[0m \u001b[0;34m'turn %d'\u001b[0m \u001b[0;34m%\u001b[0m \u001b[0mself\u001b[0m\u001b[0;34m.\u001b[0m\u001b[0mturn\u001b[0m\u001b[0;34m\u001b[0m\u001b[0m\n\u001b[1;32m     71\u001b[0m                         \u001b[0mcurrent_player\u001b[0m \u001b[0;34m=\u001b[0m \u001b[0mself\u001b[0m\u001b[0;34m.\u001b[0m\u001b[0mplayers\u001b[0m\u001b[0;34m[\u001b[0m\u001b[0mself\u001b[0m\u001b[0;34m.\u001b[0m\u001b[0mturn\u001b[0m \u001b[0;34m%\u001b[0m \u001b[0mself\u001b[0m\u001b[0;34m.\u001b[0m\u001b[0mn_players\u001b[0m\u001b[0;34m]\u001b[0m\u001b[0;34m\u001b[0m\u001b[0m\n\u001b[0;32m---> 72\u001b[0;31m                         \u001b[0mcurrent_player\u001b[0m\u001b[0;34m.\u001b[0m\u001b[0mtake_turn\u001b[0m\u001b[0;34m(\u001b[0m\u001b[0;34m)\u001b[0m\u001b[0;34m\u001b[0m\u001b[0m\n\u001b[0m\u001b[1;32m     73\u001b[0m                         \u001b[0;32mif\u001b[0m \u001b[0mself\u001b[0m\u001b[0;34m.\u001b[0m\u001b[0mlast_round\u001b[0m\u001b[0;34m:\u001b[0m\u001b[0;34m\u001b[0m\u001b[0m\n\u001b[1;32m     74\u001b[0m                                 \u001b[0;32mif\u001b[0m \u001b[0mdebug\u001b[0m\u001b[0;34m:\u001b[0m\u001b[0;34m\u001b[0m\u001b[0m\n",
      "\u001b[0;32m/ntfsl/workspace/ticket_ai/player.py\u001b[0m in \u001b[0;36mtake_turn\u001b[0;34m(self)\u001b[0m\n\u001b[1;32m    358\u001b[0m                 \u001b[0;31m#self.game.pt = possible_tracks\u001b[0m\u001b[0;34m\u001b[0m\u001b[0;34m\u001b[0m\u001b[0m\n\u001b[1;32m    359\u001b[0m                 \u001b[0;31m#decide on what action to take\u001b[0m\u001b[0;34m\u001b[0m\u001b[0;34m\u001b[0m\u001b[0m\n\u001b[0;32m--> 360\u001b[0;31m                 \u001b[0mdata\u001b[0m\u001b[0;34m,\u001b[0m \u001b[0maction\u001b[0m \u001b[0;34m=\u001b[0m \u001b[0mself\u001b[0m\u001b[0;34m.\u001b[0m\u001b[0mai\u001b[0m\u001b[0;34m.\u001b[0m\u001b[0mdecide_on_action\u001b[0m\u001b[0;34m(\u001b[0m\u001b[0mself\u001b[0m\u001b[0;34m,\u001b[0m \u001b[0mpossible_tracks\u001b[0m\u001b[0;34m)\u001b[0m\u001b[0;34m\u001b[0m\u001b[0m\n\u001b[0m\u001b[1;32m    361\u001b[0m                 \u001b[0;32mif\u001b[0m \u001b[0mself\u001b[0m\u001b[0;34m.\u001b[0m\u001b[0mgame\u001b[0m\u001b[0;34m.\u001b[0m\u001b[0mdebug\u001b[0m\u001b[0;34m:\u001b[0m\u001b[0;34m\u001b[0m\u001b[0m\n\u001b[1;32m    362\u001b[0m                         \u001b[0;32mprint\u001b[0m \u001b[0;34m'action: %s'\u001b[0m \u001b[0;34m%\u001b[0m \u001b[0maction\u001b[0m\u001b[0;34m\u001b[0m\u001b[0m\n",
      "\u001b[0;32m/ntfsl/workspace/ticket_ai/ai.pyc\u001b[0m in \u001b[0;36mdecide_on_action\u001b[0;34m(self, player, possible_tracks)\u001b[0m\n\u001b[1;32m    147\u001b[0m                 \u001b[0mserializations\u001b[0m\u001b[0;34m.\u001b[0m\u001b[0mappend\u001b[0m\u001b[0;34m(\u001b[0m\u001b[0mself\u001b[0m\u001b[0;34m.\u001b[0m\u001b[0mdecision_serialize\u001b[0m\u001b[0;34m(\u001b[0m\u001b[0mplayer\u001b[0m\u001b[0;34m,\u001b[0m\u001b[0;34m'DO_NOTHING'\u001b[0m\u001b[0;34m)\u001b[0m\u001b[0;34m)\u001b[0m\u001b[0;34m\u001b[0m\u001b[0m\n\u001b[1;32m    148\u001b[0m                 \u001b[0;31m#concatenate each serialization\u001b[0m\u001b[0;34m\u001b[0m\u001b[0;34m\u001b[0m\u001b[0m\n\u001b[0;32m--> 149\u001b[0;31m                 \u001b[0mserializations\u001b[0m \u001b[0;34m=\u001b[0m \u001b[0mplayer\u001b[0m\u001b[0;34m.\u001b[0m\u001b[0mappend_serializations\u001b[0m\u001b[0;34m(\u001b[0m\u001b[0mserializations\u001b[0m\u001b[0;34m)\u001b[0m\u001b[0;34m\u001b[0m\u001b[0m\n\u001b[0m\u001b[1;32m    150\u001b[0m \u001b[0;34m\u001b[0m\u001b[0m\n\u001b[1;32m    151\u001b[0m                 \u001b[0;31m#calculate probs and q-scores\u001b[0m\u001b[0;34m\u001b[0m\u001b[0;34m\u001b[0m\u001b[0m\n",
      "\u001b[0;32m/ntfsl/workspace/ticket_ai/player.py\u001b[0m in \u001b[0;36mappend_serializations\u001b[0;34m(self, serializations)\u001b[0m\n\u001b[1;32m    410\u001b[0m                 \u001b[0mvectors\u001b[0m \u001b[0mthat\u001b[0m \u001b[0mdescribe\u001b[0m \u001b[0mthe\u001b[0m \u001b[0mentire\u001b[0m \u001b[0mgame\u001b[0m\u001b[0;34m\u001b[0m\u001b[0m\n\u001b[1;32m    411\u001b[0m \t\t\"\"\"\n\u001b[0;32m--> 412\u001b[0;31m                 \u001b[0mgame_serialization\u001b[0m \u001b[0;34m=\u001b[0m \u001b[0mself\u001b[0m\u001b[0;34m.\u001b[0m\u001b[0mgame\u001b[0m\u001b[0;34m.\u001b[0m\u001b[0mfull_serialization\u001b[0m\u001b[0;34m(\u001b[0m\u001b[0;34m)\u001b[0m\u001b[0;34m\u001b[0m\u001b[0m\n\u001b[0m\u001b[1;32m    413\u001b[0m                 \u001b[0mself_serialization\u001b[0m \u001b[0;34m=\u001b[0m \u001b[0mself\u001b[0m\u001b[0;34m.\u001b[0m\u001b[0mserialize_self\u001b[0m\u001b[0;34m(\u001b[0m\u001b[0;34m)\u001b[0m\u001b[0;34m\u001b[0m\u001b[0m\n\u001b[1;32m    414\u001b[0m                 \u001b[0mplayer_serializations\u001b[0m \u001b[0;34m=\u001b[0m \u001b[0;34m[\u001b[0m\u001b[0mplayer\u001b[0m\u001b[0;34m.\u001b[0m\u001b[0mserialize_self\u001b[0m\u001b[0;34m(\u001b[0m\u001b[0mexternal\u001b[0m\u001b[0;34m=\u001b[0m\u001b[0mTrue\u001b[0m\u001b[0;34m)\u001b[0m \u001b[0;32mfor\u001b[0m \u001b[0mplayer\u001b[0m \u001b[0;32min\u001b[0m \u001b[0mself\u001b[0m\u001b[0;34m.\u001b[0m\u001b[0mother_players\u001b[0m\u001b[0;34m(\u001b[0m\u001b[0;34m)\u001b[0m\u001b[0;34m]\u001b[0m\u001b[0;34m\u001b[0m\u001b[0m\n",
      "\u001b[0;32m/ntfsl/workspace/ticket_ai/game.pyc\u001b[0m in \u001b[0;36mfull_serialization\u001b[0;34m(self)\u001b[0m\n\u001b[1;32m    269\u001b[0m \u001b[0;34m\u001b[0m\u001b[0m\n\u001b[1;32m    270\u001b[0m         \u001b[0;32mdef\u001b[0m \u001b[0mfull_serialization\u001b[0m\u001b[0;34m(\u001b[0m\u001b[0mself\u001b[0m\u001b[0;34m)\u001b[0m\u001b[0;34m:\u001b[0m\u001b[0;34m\u001b[0m\u001b[0m\n\u001b[0;32m--> 271\u001b[0;31m                 \u001b[0;32mreturn\u001b[0m \u001b[0mnp\u001b[0m\u001b[0;34m.\u001b[0m\u001b[0mhstack\u001b[0m\u001b[0;34m(\u001b[0m\u001b[0;34m[\u001b[0m\u001b[0mself\u001b[0m\u001b[0;34m.\u001b[0m\u001b[0mcalc_serialized_board_state\u001b[0m\u001b[0;34m(\u001b[0m\u001b[0;34m)\u001b[0m\u001b[0;34m,\u001b[0m \u001b[0mself\u001b[0m\u001b[0;34m.\u001b[0m\u001b[0mserialize_deck_state\u001b[0m\u001b[0;34m(\u001b[0m\u001b[0;34m)\u001b[0m\u001b[0;34m]\u001b[0m\u001b[0;34m)\u001b[0m\u001b[0;34m\u001b[0m\u001b[0m\n\u001b[0m\u001b[1;32m    272\u001b[0m \u001b[0;34m\u001b[0m\u001b[0m\n\u001b[1;32m    273\u001b[0m         \u001b[0;32mdef\u001b[0m \u001b[0mplot\u001b[0m\u001b[0;34m(\u001b[0m\u001b[0mself\u001b[0m\u001b[0;34m)\u001b[0m\u001b[0;34m:\u001b[0m\u001b[0;34m\u001b[0m\u001b[0m\n",
      "\u001b[0;32m/usr/local/lib/python2.7/dist-packages/numpy/core/shape_base.pyc\u001b[0m in \u001b[0;36mhstack\u001b[0;34m(tup)\u001b[0m\n\u001b[1;32m    286\u001b[0m \u001b[0;34m\u001b[0m\u001b[0m\n\u001b[1;32m    287\u001b[0m     \"\"\"\n\u001b[0;32m--> 288\u001b[0;31m     \u001b[0marrs\u001b[0m \u001b[0;34m=\u001b[0m \u001b[0;34m[\u001b[0m\u001b[0matleast_1d\u001b[0m\u001b[0;34m(\u001b[0m\u001b[0m_m\u001b[0m\u001b[0;34m)\u001b[0m \u001b[0;32mfor\u001b[0m \u001b[0m_m\u001b[0m \u001b[0;32min\u001b[0m \u001b[0mtup\u001b[0m\u001b[0;34m]\u001b[0m\u001b[0;34m\u001b[0m\u001b[0m\n\u001b[0m\u001b[1;32m    289\u001b[0m     \u001b[0;31m# As a special case, dimension 0 of 1-dimensional arrays is \"horizontal\"\u001b[0m\u001b[0;34m\u001b[0m\u001b[0;34m\u001b[0m\u001b[0m\n\u001b[1;32m    290\u001b[0m     \u001b[0;32mif\u001b[0m \u001b[0marrs\u001b[0m \u001b[0;32mand\u001b[0m \u001b[0marrs\u001b[0m\u001b[0;34m[\u001b[0m\u001b[0;36m0\u001b[0m\u001b[0;34m]\u001b[0m\u001b[0;34m.\u001b[0m\u001b[0mndim\u001b[0m \u001b[0;34m==\u001b[0m \u001b[0;36m1\u001b[0m\u001b[0;34m:\u001b[0m\u001b[0;34m\u001b[0m\u001b[0m\n",
      "\u001b[0;31mKeyboardInterrupt\u001b[0m: "
     ]
    }
   ],
   "source": [
    "temperatures = [0.5, 0.2, 0.1, 0.01, 0.005, 0.001, 0.0005, 0.0001, 0.0001, 0., 0.]\n",
    "\n",
    "for temperature in temperatures:\n",
    "    print 'TEMPERATURE: %.03f' % temperature\n",
    "    test_config['temperature'] = temperature\n",
    "    player_wins = [0 for _ in players]\n",
    "    winning_scores = []\n",
    "    player_scores = [[] for _ in players]\n",
    "    game_turns = []\n",
    "    for cycle in range(3):\n",
    "        print 'in cycle %d' % cycle\n",
    "        for i in range(75):\n",
    "            shuffle(players)\n",
    "            game = Game(pre_existing_players=players, config=test_config)\n",
    "            game.run()\n",
    "            for i, player in enumerate(player_list):\n",
    "                player_wins[i]+= player.win\n",
    "                player_scores[i].append(player.total_points)\n",
    "            winning_scores.append(game.winning_score)\n",
    "            game_turns.append(game.turn)\n",
    "        #don't train player 0, train player 1 partially, and train players 2 and 3 much more\n",
    "        for i, player in enumerate(player_list):\n",
    "            if i==1:\n",
    "                player.ai.train_win()\n",
    "                player.ai.train_q()\n",
    "            elif i > 1:\n",
    "                player.ai.train_win(20)\n",
    "                player.ai.train_q(20)\n",
    "    for player in player_list:\n",
    "        player.ai.reset_history()\n",
    "    overall_player_wins.append(player_wins)\n",
    "    overall_player_scores.append(player_scores)\n",
    "    overall_winning_scores.append(winning_scores)\n",
    "    overall_game_turns.append(game_turns)\n",
    "    #print out some summaries\n",
    "    print 'WINNING SCORE AVERAGE: %.1f' % np.mean(winning_scores)\n",
    "    print 'NUMBER OF TURNS AVERAGE: %.1f' % np.mean(game_turns)\n",
    "    for i, player in enumerate(player_list):\n",
    "        print '---PLAYER %d STATS---' % i\n",
    "        print 'WIN AVERAGE: %.3f' % (np.mean(player_wins[i])/225.)\n",
    "        print 'SCORE AVERAGE: %.1f' % np.mean(player_scores[i])\n",
    "        "
   ]
  },
  {
   "cell_type": "markdown",
   "metadata": {},
   "source": [
    "$a^2$"
   ]
  },
  {
   "cell_type": "code",
   "execution_count": null,
   "metadata": {},
   "outputs": [],
   "source": [
    "print game.mt\n",
    "print game.tl\n",
    "print game.rt"
   ]
  },
  {
   "cell_type": "code",
   "execution_count": null,
   "metadata": {},
   "outputs": [],
   "source": [
    "game.tickets"
   ]
  },
  {
   "cell_type": "code",
   "execution_count": null,
   "metadata": {},
   "outputs": [],
   "source": [
    "np.mean(overall_winning_scores,1)"
   ]
  },
  {
   "cell_type": "code",
   "execution_count": null,
   "metadata": {},
   "outputs": [],
   "source": [
    "np.mean(overall_player_scores, ( 2,))"
   ]
  },
  {
   "cell_type": "code",
   "execution_count": null,
   "metadata": {},
   "outputs": [],
   "source": [
    "for i, player in enumerate(player_list):\n",
    "    player.ai.save_models('ai_h5/p%d_test004_%%s.h5' % i)"
   ]
  },
  {
   "cell_type": "markdown",
   "metadata": {},
   "source": [
    "not sure why all player scores improved for the last row...perhaps training should lower temperature more quickly"
   ]
  }
 ],
 "metadata": {
  "kernelspec": {
   "display_name": "Python 2",
   "language": "python",
   "name": "python2"
  },
  "language_info": {
   "codemirror_mode": {
    "name": "ipython",
    "version": 2
   },
   "file_extension": ".py",
   "mimetype": "text/x-python",
   "name": "python",
   "nbconvert_exporter": "python",
   "pygments_lexer": "ipython2",
   "version": "2.7.12"
  }
 },
 "nbformat": 4,
 "nbformat_minor": 2
}

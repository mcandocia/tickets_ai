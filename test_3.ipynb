{
 "cells": [
  {
   "cell_type": "markdown",
   "metadata": {},
   "source": [
    "# Improvement Trial\n",
    "\n",
    "Previously I forgot to manage memory properly, but this time I will also look at the score each player got in each game"
   ]
  },
  {
   "cell_type": "code",
   "execution_count": 1,
   "metadata": {},
   "outputs": [
    {
     "name": "stderr",
     "output_type": "stream",
     "text": [
      "Using TensorFlow backend.\n"
     ]
    }
   ],
   "source": [
    "from constants import *\n",
    "from copy import deepcopy\n",
    "from random import shuffle\n",
    "from game import Game\n",
    "import numpy as np"
   ]
  },
  {
   "cell_type": "code",
   "execution_count": 2,
   "metadata": {},
   "outputs": [
    {
     "name": "stdout",
     "output_type": "stream",
     "text": [
      "TEMPERATURE: 1.000\n",
      "in cycle 0\n",
      "in cycle 1\n"
     ]
    },
    {
     "name": "stderr",
     "output_type": "stream",
     "text": [
      "ai.py:361: RuntimeWarning: invalid value encountered in divide\n",
      "  return selected/np.sum(selected)\n",
      "ai.py:334: RuntimeWarning: invalid value encountered in less\n",
      "  return np.random.choice(len(new_probs), p=new_probs)\n"
     ]
    },
    {
     "name": "stdout",
     "output_type": "stream",
     "text": [
      "in cycle 2\n",
      "WINNING SCORE AVERAGE: -12.2\n",
      "---PLAYER 0 STATS---\n",
      "WIN AVERAGE: 34.000\n",
      "SCORE AVERAGE: -30.2\n",
      "---PLAYER 1 STATS---\n",
      "WIN AVERAGE: 25.000\n",
      "SCORE AVERAGE: -29.8\n",
      "---PLAYER 2 STATS---\n",
      "WIN AVERAGE: 24.000\n",
      "SCORE AVERAGE: -30.8\n",
      "---PLAYER 3 STATS---\n",
      "WIN AVERAGE: 23.000\n",
      "SCORE AVERAGE: -30.0\n",
      "TEMPERATURE: 0.900\n",
      "in cycle 0\n",
      "in cycle 1\n",
      "in cycle 2\n",
      "WINNING SCORE AVERAGE: -10.4\n",
      "---PLAYER 0 STATS---\n",
      "WIN AVERAGE: 30.000\n",
      "SCORE AVERAGE: -28.8\n",
      "---PLAYER 1 STATS---\n",
      "WIN AVERAGE: 28.000\n",
      "SCORE AVERAGE: -28.4\n",
      "---PLAYER 2 STATS---\n",
      "WIN AVERAGE: 27.000\n",
      "SCORE AVERAGE: -28.3\n",
      "---PLAYER 3 STATS---\n",
      "WIN AVERAGE: 22.000\n",
      "SCORE AVERAGE: -35.2\n",
      "TEMPERATURE: 0.800\n",
      "in cycle 0\n",
      "in cycle 1\n",
      "in cycle 2\n",
      "WINNING SCORE AVERAGE: -11.6\n",
      "---PLAYER 0 STATS---\n",
      "WIN AVERAGE: 27.000\n",
      "SCORE AVERAGE: -32.3\n",
      "---PLAYER 1 STATS---\n",
      "WIN AVERAGE: 20.000\n",
      "SCORE AVERAGE: -31.0\n",
      "---PLAYER 2 STATS---\n",
      "WIN AVERAGE: 27.000\n",
      "SCORE AVERAGE: -29.7\n",
      "---PLAYER 3 STATS---\n",
      "WIN AVERAGE: 32.000\n",
      "SCORE AVERAGE: -25.7\n",
      "TEMPERATURE: 0.700\n",
      "in cycle 0\n",
      "in cycle 1\n",
      "in cycle 2\n",
      "WINNING SCORE AVERAGE: -10.3\n",
      "---PLAYER 0 STATS---\n",
      "WIN AVERAGE: 23.000\n",
      "SCORE AVERAGE: -34.4\n",
      "---PLAYER 1 STATS---\n",
      "WIN AVERAGE: 16.000\n",
      "SCORE AVERAGE: -32.9\n",
      "---PLAYER 2 STATS---\n",
      "WIN AVERAGE: 23.000\n",
      "SCORE AVERAGE: -30.1\n",
      "---PLAYER 3 STATS---\n",
      "WIN AVERAGE: 48.000\n",
      "SCORE AVERAGE: -21.8\n",
      "TEMPERATURE: 0.600\n",
      "in cycle 0\n",
      "in cycle 1\n",
      "in cycle 2\n",
      "WINNING SCORE AVERAGE: -9.6\n",
      "---PLAYER 0 STATS---\n",
      "WIN AVERAGE: 10.000\n",
      "SCORE AVERAGE: -39.0\n",
      "---PLAYER 1 STATS---\n",
      "WIN AVERAGE: 33.000\n",
      "SCORE AVERAGE: -24.9\n",
      "---PLAYER 2 STATS---\n",
      "WIN AVERAGE: 27.000\n",
      "SCORE AVERAGE: -27.1\n",
      "---PLAYER 3 STATS---\n",
      "WIN AVERAGE: 39.000\n",
      "SCORE AVERAGE: -23.1\n",
      "TEMPERATURE: 0.500\n",
      "in cycle 0\n",
      "in cycle 1\n",
      "in cycle 2\n",
      "WINNING SCORE AVERAGE: -6.3\n",
      "---PLAYER 0 STATS---\n",
      "WIN AVERAGE: 1.000\n",
      "SCORE AVERAGE: -45.8\n",
      "---PLAYER 1 STATS---\n",
      "WIN AVERAGE: 40.000\n",
      "SCORE AVERAGE: -20.3\n",
      "---PLAYER 2 STATS---\n",
      "WIN AVERAGE: 28.000\n",
      "SCORE AVERAGE: -26.2\n",
      "---PLAYER 3 STATS---\n",
      "WIN AVERAGE: 39.000\n",
      "SCORE AVERAGE: -20.3\n",
      "TEMPERATURE: 0.400\n",
      "in cycle 0\n",
      "in cycle 1\n",
      "in cycle 2\n",
      "WINNING SCORE AVERAGE: -7.6\n",
      "---PLAYER 0 STATS---\n",
      "WIN AVERAGE: 0.000\n",
      "SCORE AVERAGE: -47.1\n",
      "---PLAYER 1 STATS---\n",
      "WIN AVERAGE: 45.000\n",
      "SCORE AVERAGE: -19.8\n",
      "---PLAYER 2 STATS---\n",
      "WIN AVERAGE: 28.000\n",
      "SCORE AVERAGE: -27.7\n",
      "---PLAYER 3 STATS---\n",
      "WIN AVERAGE: 33.000\n",
      "SCORE AVERAGE: -28.2\n",
      "TEMPERATURE: 0.300\n",
      "in cycle 0\n",
      "in cycle 1\n",
      "in cycle 2\n",
      "WINNING SCORE AVERAGE: -8.9\n",
      "---PLAYER 0 STATS---\n",
      "WIN AVERAGE: 3.000\n",
      "SCORE AVERAGE: -46.5\n",
      "---PLAYER 1 STATS---\n",
      "WIN AVERAGE: 29.000\n",
      "SCORE AVERAGE: -26.7\n",
      "---PLAYER 2 STATS---\n",
      "WIN AVERAGE: 37.000\n",
      "SCORE AVERAGE: -22.6\n",
      "---PLAYER 3 STATS---\n",
      "WIN AVERAGE: 38.000\n",
      "SCORE AVERAGE: -23.0\n",
      "TEMPERATURE: 0.200\n",
      "in cycle 0\n",
      "in cycle 1\n",
      "in cycle 2\n",
      "WINNING SCORE AVERAGE: -7.9\n",
      "---PLAYER 0 STATS---\n",
      "WIN AVERAGE: 3.000\n",
      "SCORE AVERAGE: -49.3\n",
      "---PLAYER 1 STATS---\n",
      "WIN AVERAGE: 36.000\n",
      "SCORE AVERAGE: -25.0\n",
      "---PLAYER 2 STATS---\n",
      "WIN AVERAGE: 22.000\n",
      "SCORE AVERAGE: -29.0\n",
      "---PLAYER 3 STATS---\n",
      "WIN AVERAGE: 45.000\n",
      "SCORE AVERAGE: -20.6\n",
      "TEMPERATURE: 0.100\n",
      "in cycle 0\n",
      "in cycle 1\n",
      "in cycle 2\n",
      "WINNING SCORE AVERAGE: -9.6\n",
      "---PLAYER 0 STATS---\n",
      "WIN AVERAGE: 1.000\n",
      "SCORE AVERAGE: -48.3\n",
      "---PLAYER 1 STATS---\n",
      "WIN AVERAGE: 31.000\n",
      "SCORE AVERAGE: -28.4\n",
      "---PLAYER 2 STATS---\n",
      "WIN AVERAGE: 39.000\n",
      "SCORE AVERAGE: -26.5\n",
      "---PLAYER 3 STATS---\n",
      "WIN AVERAGE: 36.000\n",
      "SCORE AVERAGE: -24.8\n",
      "TEMPERATURE: 0.050\n",
      "in cycle 0\n",
      "in cycle 1\n",
      "in cycle 2\n",
      "WINNING SCORE AVERAGE: -9.4\n",
      "---PLAYER 0 STATS---\n",
      "WIN AVERAGE: 7.000\n",
      "SCORE AVERAGE: -41.4\n",
      "---PLAYER 1 STATS---\n",
      "WIN AVERAGE: 38.000\n",
      "SCORE AVERAGE: -25.4\n",
      "---PLAYER 2 STATS---\n",
      "WIN AVERAGE: 28.000\n",
      "SCORE AVERAGE: -29.2\n",
      "---PLAYER 3 STATS---\n",
      "WIN AVERAGE: 32.000\n",
      "SCORE AVERAGE: -29.0\n",
      "TEMPERATURE: 0.010\n",
      "in cycle 0\n",
      "in cycle 1\n",
      "in cycle 2\n",
      "WINNING SCORE AVERAGE: -7.8\n",
      "---PLAYER 0 STATS---\n",
      "WIN AVERAGE: 5.000\n",
      "SCORE AVERAGE: -41.5\n",
      "---PLAYER 1 STATS---\n",
      "WIN AVERAGE: 28.000\n",
      "SCORE AVERAGE: -31.2\n",
      "---PLAYER 2 STATS---\n",
      "WIN AVERAGE: 34.000\n",
      "SCORE AVERAGE: -28.7\n",
      "---PLAYER 3 STATS---\n",
      "WIN AVERAGE: 42.000\n",
      "SCORE AVERAGE: -22.5\n",
      "TEMPERATURE: 0.001\n",
      "in cycle 0\n"
     ]
    },
    {
     "name": "stderr",
     "output_type": "stream",
     "text": [
      "ai.py:360: RuntimeWarning: overflow encountered in power\n",
      "  selected = x**(1/temperature)\n"
     ]
    },
    {
     "name": "stdout",
     "output_type": "stream",
     "text": [
      "in cycle 1\n",
      "in cycle 2\n",
      "WINNING SCORE AVERAGE: 4.7\n",
      "---PLAYER 0 STATS---\n",
      "WIN AVERAGE: 29.000\n",
      "SCORE AVERAGE: -7.7\n",
      "---PLAYER 1 STATS---\n",
      "WIN AVERAGE: 25.000\n",
      "SCORE AVERAGE: -9.4\n",
      "---PLAYER 2 STATS---\n",
      "WIN AVERAGE: 27.000\n",
      "SCORE AVERAGE: -8.2\n",
      "---PLAYER 3 STATS---\n",
      "WIN AVERAGE: 27.000\n",
      "SCORE AVERAGE: -8.0\n",
      "TEMPERATURE: 0.000\n",
      "in cycle 0\n"
     ]
    },
    {
     "ename": "ValueError",
     "evalue": "probabilities do not sum to 1",
     "output_type": "error",
     "traceback": [
      "\u001b[0;31m---------------------------------------------------------------------------\u001b[0m",
      "\u001b[0;31mValueError\u001b[0m                                Traceback (most recent call last)",
      "\u001b[0;32m<ipython-input-2-42a27f0d4405>\u001b[0m in \u001b[0;36m<module>\u001b[0;34m()\u001b[0m\n\u001b[1;32m     26\u001b[0m             \u001b[0mshuffle\u001b[0m\u001b[0;34m(\u001b[0m\u001b[0mplayers\u001b[0m\u001b[0;34m)\u001b[0m\u001b[0;34m\u001b[0m\u001b[0m\n\u001b[1;32m     27\u001b[0m             \u001b[0mgame\u001b[0m \u001b[0;34m=\u001b[0m \u001b[0mGame\u001b[0m\u001b[0;34m(\u001b[0m\u001b[0mpre_existing_players\u001b[0m\u001b[0;34m=\u001b[0m\u001b[0mplayers\u001b[0m\u001b[0;34m,\u001b[0m \u001b[0mconfig\u001b[0m\u001b[0;34m=\u001b[0m\u001b[0mtest_config\u001b[0m\u001b[0;34m)\u001b[0m\u001b[0;34m\u001b[0m\u001b[0m\n\u001b[0;32m---> 28\u001b[0;31m             \u001b[0mgame\u001b[0m\u001b[0;34m.\u001b[0m\u001b[0mrun\u001b[0m\u001b[0;34m(\u001b[0m\u001b[0;34m)\u001b[0m\u001b[0;34m\u001b[0m\u001b[0m\n\u001b[0m\u001b[1;32m     29\u001b[0m             \u001b[0;32mfor\u001b[0m \u001b[0mi\u001b[0m\u001b[0;34m,\u001b[0m \u001b[0mplayer\u001b[0m \u001b[0;32min\u001b[0m \u001b[0menumerate\u001b[0m\u001b[0;34m(\u001b[0m\u001b[0mplayer_list\u001b[0m\u001b[0;34m)\u001b[0m\u001b[0;34m:\u001b[0m\u001b[0;34m\u001b[0m\u001b[0m\n\u001b[1;32m     30\u001b[0m                 \u001b[0mplayer_wins\u001b[0m\u001b[0;34m[\u001b[0m\u001b[0mi\u001b[0m\u001b[0;34m]\u001b[0m\u001b[0;34m+=\u001b[0m \u001b[0mplayer\u001b[0m\u001b[0;34m.\u001b[0m\u001b[0mwin\u001b[0m\u001b[0;34m\u001b[0m\u001b[0m\n",
      "\u001b[0;32m/ntfsl/workspace/ticket_ai/game.py\u001b[0m in \u001b[0;36mrun\u001b[0;34m(self, debug)\u001b[0m\n\u001b[1;32m     70\u001b[0m                                 \u001b[0;32mprint\u001b[0m \u001b[0;34m'turn %d'\u001b[0m \u001b[0;34m%\u001b[0m \u001b[0mself\u001b[0m\u001b[0;34m.\u001b[0m\u001b[0mturn\u001b[0m\u001b[0;34m\u001b[0m\u001b[0m\n\u001b[1;32m     71\u001b[0m                         \u001b[0mcurrent_player\u001b[0m \u001b[0;34m=\u001b[0m \u001b[0mself\u001b[0m\u001b[0;34m.\u001b[0m\u001b[0mplayers\u001b[0m\u001b[0;34m[\u001b[0m\u001b[0mself\u001b[0m\u001b[0;34m.\u001b[0m\u001b[0mturn\u001b[0m \u001b[0;34m%\u001b[0m \u001b[0mself\u001b[0m\u001b[0;34m.\u001b[0m\u001b[0mn_players\u001b[0m\u001b[0;34m]\u001b[0m\u001b[0;34m\u001b[0m\u001b[0m\n\u001b[0;32m---> 72\u001b[0;31m                         \u001b[0mcurrent_player\u001b[0m\u001b[0;34m.\u001b[0m\u001b[0mtake_turn\u001b[0m\u001b[0;34m(\u001b[0m\u001b[0;34m)\u001b[0m\u001b[0;34m\u001b[0m\u001b[0m\n\u001b[0m\u001b[1;32m     73\u001b[0m                         \u001b[0;32mif\u001b[0m \u001b[0mself\u001b[0m\u001b[0;34m.\u001b[0m\u001b[0mlast_round\u001b[0m\u001b[0;34m:\u001b[0m\u001b[0;34m\u001b[0m\u001b[0m\n\u001b[1;32m     74\u001b[0m                                 \u001b[0;32mif\u001b[0m \u001b[0mdebug\u001b[0m\u001b[0;34m:\u001b[0m\u001b[0;34m\u001b[0m\u001b[0m\n",
      "\u001b[0;32m/ntfsl/workspace/ticket_ai/player.py\u001b[0m in \u001b[0;36mtake_turn\u001b[0;34m(self)\u001b[0m\n\u001b[1;32m    364\u001b[0m                 \u001b[0;31m#self.game.pt = possible_tracks\u001b[0m\u001b[0;34m\u001b[0m\u001b[0;34m\u001b[0m\u001b[0m\n\u001b[1;32m    365\u001b[0m                 \u001b[0;31m#decide on what action to take\u001b[0m\u001b[0;34m\u001b[0m\u001b[0;34m\u001b[0m\u001b[0m\n\u001b[0;32m--> 366\u001b[0;31m                 \u001b[0mdata\u001b[0m\u001b[0;34m,\u001b[0m \u001b[0maction\u001b[0m \u001b[0;34m=\u001b[0m \u001b[0mself\u001b[0m\u001b[0;34m.\u001b[0m\u001b[0mai\u001b[0m\u001b[0;34m.\u001b[0m\u001b[0mdecide_on_action\u001b[0m\u001b[0;34m(\u001b[0m\u001b[0mself\u001b[0m\u001b[0;34m,\u001b[0m \u001b[0mpossible_tracks\u001b[0m\u001b[0;34m)\u001b[0m\u001b[0;34m\u001b[0m\u001b[0m\n\u001b[0m\u001b[1;32m    367\u001b[0m                 \u001b[0;32mif\u001b[0m \u001b[0mself\u001b[0m\u001b[0;34m.\u001b[0m\u001b[0mgame\u001b[0m\u001b[0;34m.\u001b[0m\u001b[0mdebug\u001b[0m\u001b[0;34m:\u001b[0m\u001b[0;34m\u001b[0m\u001b[0m\n\u001b[1;32m    368\u001b[0m                         \u001b[0;32mprint\u001b[0m \u001b[0;34m'action: %s'\u001b[0m \u001b[0;34m%\u001b[0m \u001b[0maction\u001b[0m\u001b[0;34m\u001b[0m\u001b[0m\n",
      "\u001b[0;32m/ntfsl/workspace/ticket_ai/ai.pyc\u001b[0m in \u001b[0;36mdecide_on_action\u001b[0;34m(self, player, possible_tracks)\u001b[0m\n\u001b[1;32m    155\u001b[0m                 \u001b[0;31m#make a decision based on both\u001b[0m\u001b[0;34m\u001b[0m\u001b[0;34m\u001b[0m\u001b[0m\n\u001b[1;32m    156\u001b[0m                 \u001b[0;31m#some player/game configs go into the algorithm\u001b[0m\u001b[0;34m\u001b[0m\u001b[0;34m\u001b[0m\u001b[0m\n\u001b[0;32m--> 157\u001b[0;31m                 \u001b[0mdecision_index\u001b[0m \u001b[0;34m=\u001b[0m \u001b[0mself\u001b[0m\u001b[0;34m.\u001b[0m\u001b[0mdecide_based_on_p_and_q\u001b[0m\u001b[0;34m(\u001b[0m\u001b[0mprobabilities\u001b[0m\u001b[0;34m,\u001b[0m \u001b[0mq_scores\u001b[0m\u001b[0;34m,\u001b[0m \u001b[0mplayer\u001b[0m\u001b[0;34m)\u001b[0m\u001b[0;34m\u001b[0m\u001b[0m\n\u001b[0m\u001b[1;32m    158\u001b[0m \u001b[0;34m\u001b[0m\u001b[0m\n\u001b[1;32m    159\u001b[0m                 \u001b[0;31m#record history and then return decision and related data\u001b[0m\u001b[0;34m\u001b[0m\u001b[0;34m\u001b[0m\u001b[0m\n",
      "\u001b[0;32m/ntfsl/workspace/ticket_ai/ai.pyc\u001b[0m in \u001b[0;36mdecide_based_on_p_and_q\u001b[0;34m(self, probabilities, q_scores, player)\u001b[0m\n\u001b[1;32m    332\u001b[0m \t\tnew_probs = normalize(probabilities * (1+min_normalize(q_scores) * discount),\n\u001b[1;32m    333\u001b[0m \t\t\ttemperature)\n\u001b[0;32m--> 334\u001b[0;31m                 \u001b[0;32mreturn\u001b[0m \u001b[0mnp\u001b[0m\u001b[0;34m.\u001b[0m\u001b[0mrandom\u001b[0m\u001b[0;34m.\u001b[0m\u001b[0mchoice\u001b[0m\u001b[0;34m(\u001b[0m\u001b[0mlen\u001b[0m\u001b[0;34m(\u001b[0m\u001b[0mnew_probs\u001b[0m\u001b[0;34m)\u001b[0m\u001b[0;34m,\u001b[0m \u001b[0mp\u001b[0m\u001b[0;34m=\u001b[0m\u001b[0mnew_probs\u001b[0m\u001b[0;34m)\u001b[0m\u001b[0;34m\u001b[0m\u001b[0m\n\u001b[0m\u001b[1;32m    335\u001b[0m \u001b[0;34m\u001b[0m\u001b[0m\n\u001b[1;32m    336\u001b[0m \u001b[0;32mdef\u001b[0m \u001b[0mvertical_repeat\u001b[0m\u001b[0;34m(\u001b[0m\u001b[0mvec\u001b[0m\u001b[0;34m,\u001b[0m \u001b[0mn\u001b[0m\u001b[0;34m)\u001b[0m\u001b[0;34m:\u001b[0m\u001b[0;34m\u001b[0m\u001b[0m\n",
      "\u001b[0;32mmtrand.pyx\u001b[0m in \u001b[0;36mmtrand.RandomState.choice\u001b[0;34m()\u001b[0m\n",
      "\u001b[0;31mValueError\u001b[0m: probabilities do not sum to 1"
     ]
    }
   ],
   "source": [
    "#game is now using lag=2 instead of lag=8 for q-score\n",
    "#maybe this will help guide it to higher point values\n",
    "test_config = deepcopy(DEFAULT_GAME_CONFIG)\n",
    "test_config['memory'] = 2\n",
    "test_config['discount'] = 1.\n",
    "\n",
    "init_game = Game(n_players=4, q_lag=2, config=test_config)\n",
    "#goal: eventually train players to not want to grab more tickets\n",
    "\n",
    "players = init_game.players\n",
    "#former will be shuffled\n",
    "player_list = [p for p in players]\n",
    "overall_player_wins = []\n",
    "overall_player_scores = []\n",
    "overall_winning_scores = []\n",
    "\n",
    "for temperature in [1., 0.9, 0.8, 0.7, 0.6, 0.5, 0.4, 0.3, 0.2, 0.1, 0.05, 0.01, 0.001, 0.]:\n",
    "    print 'TEMPERATURE: %.03f' % temperature\n",
    "    test_config['temperature'] = temperature\n",
    "    player_wins = [0 for _ in players]\n",
    "    winning_scores = []\n",
    "    player_scores = [[] for _ in players]\n",
    "    for cycle in range(3):\n",
    "        print 'in cycle %d' % cycle\n",
    "        for i in range(35):\n",
    "            shuffle(players)\n",
    "            game = Game(pre_existing_players=players, config=test_config)\n",
    "            game.run()\n",
    "            for i, player in enumerate(player_list):\n",
    "                player_wins[i]+= player.win\n",
    "                player_scores[i].append(player.total_points)\n",
    "            winning_scores.append(game.winning_score)\n",
    "        #don't train player 0, train player 1 partially, and train players 2 and 3 much more\n",
    "        for i, player in enumerate(player_list):\n",
    "            if i==1:\n",
    "                player.ai.train_win()\n",
    "                player.ai.train_q()\n",
    "            elif i > 1:\n",
    "                player.ai.train_win(20)\n",
    "                player.ai.train_q(20)\n",
    "    for player in player_list:\n",
    "        player.ai.reset_history()\n",
    "    overall_player_wins.append(player_wins)\n",
    "    overall_player_scores.append(player_scores)\n",
    "    overall_winning_scores.append(winning_scores)\n",
    "    #print out some summaries\n",
    "    print 'WINNING SCORE AVERAGE: %.1f' % np.mean(winning_scores)\n",
    "    for i, player in enumerate(player_list):\n",
    "        print '---PLAYER %d STATS---' % i\n",
    "        print 'WIN AVERAGE: %.3f' % np.mean(player_wins[i])/105\n",
    "        print 'SCORE AVERAGE: %.1f' % np.mean(player_scores[i])\n",
    "        "
   ]
  },
  {
   "cell_type": "markdown",
   "metadata": {},
   "source": [
    "going to add epsilon terms to some numpy values to avoid these issues"
   ]
  },
  {
   "cell_type": "code",
   "execution_count": 3,
   "metadata": {},
   "outputs": [
    {
     "data": {
      "text/plain": [
       "0"
      ]
     },
     "execution_count": 3,
     "metadata": {},
     "output_type": "execute_result"
    }
   ],
   "source": [
    "i"
   ]
  },
  {
   "cell_type": "code",
   "execution_count": 4,
   "metadata": {},
   "outputs": [
    {
     "data": {
      "text/plain": [
       "63"
      ]
     },
     "execution_count": 4,
     "metadata": {},
     "output_type": "execute_result"
    }
   ],
   "source": [
    "game.turn"
   ]
  },
  {
   "cell_type": "code",
   "execution_count": 5,
   "metadata": {},
   "outputs": [
    {
     "data": {
      "text/plain": [
       "array([-12.16190476, -10.4       , -11.59047619, -10.28571429,\n",
       "        -9.55238095,  -6.32380952,  -7.61904762,  -8.8952381 ,\n",
       "        -7.91428571,  -9.63809524,  -9.38095238,  -7.78095238,   4.66666667])"
      ]
     },
     "execution_count": 5,
     "metadata": {},
     "output_type": "execute_result"
    }
   ],
   "source": [
    "np.mean(overall_winning_scores,1)"
   ]
  },
  {
   "cell_type": "code",
   "execution_count": 15,
   "metadata": {},
   "outputs": [
    {
     "data": {
      "text/plain": [
       "array([[-30.16190476, -29.82857143, -30.75238095, -30.03809524],\n",
       "       [-28.77142857, -28.38095238, -28.3047619 , -35.2       ],\n",
       "       [-32.33333333, -31.03809524, -29.65714286, -25.73333333],\n",
       "       [-34.39047619, -32.86666667, -30.12380952, -21.84761905],\n",
       "       [-38.95238095, -24.87619048, -27.11428571, -23.14285714],\n",
       "       [-45.82857143, -20.32380952, -26.18095238, -20.32380952],\n",
       "       [-47.12380952, -19.8       , -27.72380952, -28.18095238],\n",
       "       [-46.4952381 , -26.6952381 , -22.60952381, -22.96190476],\n",
       "       [-49.28571429, -24.96190476, -28.95238095, -20.6       ],\n",
       "       [-48.27619048, -28.44761905, -26.45714286, -24.79047619],\n",
       "       [-41.39047619, -25.44761905, -29.19047619, -28.97142857],\n",
       "       [-41.52380952, -31.23809524, -28.65714286, -22.46666667],\n",
       "       [ -7.72380952,  -9.36190476,  -8.18095238,  -8.02857143]])"
      ]
     },
     "execution_count": 15,
     "metadata": {},
     "output_type": "execute_result"
    }
   ],
   "source": [
    "np.mean(overall_player_scores, ( 2,))"
   ]
  },
  {
   "cell_type": "code",
   "execution_count": 11,
   "metadata": {},
   "outputs": [],
   "source": [
    "for i, player in enumerate(player_list):\n",
    "    player.ai.save_models('ai_h5/p%d_test003_%%s.h5' % i)"
   ]
  },
  {
   "cell_type": "markdown",
   "metadata": {},
   "source": [
    "not sure why all player scores improved for the last row...perhaps training should lower temperature more quickly"
   ]
  }
 ],
 "metadata": {
  "kernelspec": {
   "display_name": "Python 2",
   "language": "python",
   "name": "python2"
  },
  "language_info": {
   "codemirror_mode": {
    "name": "ipython",
    "version": 2
   },
   "file_extension": ".py",
   "mimetype": "text/x-python",
   "name": "python",
   "nbconvert_exporter": "python",
   "pygments_lexer": "ipython2",
   "version": "2.7.12"
  }
 },
 "nbformat": 4,
 "nbformat_minor": 2
}

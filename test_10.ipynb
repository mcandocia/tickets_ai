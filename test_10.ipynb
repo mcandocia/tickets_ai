{
 "cells": [
  {
   "cell_type": "markdown",
   "metadata": {},
   "source": [
    "# Improvement Trial Using Previous Model, backtracking temperature and increasing discount\n",
    "\n",
    "This trial will test allowing an okay AI to take riskier moves. I will work on viz code in the meantime. Later I will test the effect of increasing the lag of the q-score change. This should be safer, as the AI are unlikely to choose as many tickets as they previously did."
   ]
  },
  {
   "cell_type": "code",
   "execution_count": 1,
   "metadata": {},
   "outputs": [
    {
     "name": "stderr",
     "output_type": "stream",
     "text": [
      "Using TensorFlow backend.\n"
     ]
    }
   ],
   "source": [
    "import gpu_rec\n",
    "from constants import *\n",
    "from copy import deepcopy\n",
    "from random import shuffle\n",
    "from game import Game\n",
    "import numpy as np\n",
    "import sys"
   ]
  },
  {
   "cell_type": "code",
   "execution_count": 2,
   "metadata": {},
   "outputs": [],
   "source": [
    "#game is now using lag=1 instead of lag=2 for q-score\n",
    "#maybe this will help guide it to higher point values in short term, \n",
    "#with less opportunities for probabilities straying\n",
    "test_config = deepcopy(DEFAULT_GAME_CONFIG)\n",
    "test_config['memory'] = 1\n",
    "test_config['discount'] = 0.01\n",
    "\n",
    "init_game = Game(n_players=5, q_lag=1, config=test_config)\n",
    "#goal: eventually train players to not want to grab more tickets\n",
    "\n",
    "players = init_game.players\n",
    "#former will be shuffled\n",
    "player_list = [p for p in players]\n",
    "overall_player_wins = []\n",
    "overall_player_scores = []\n",
    "overall_winning_scores = []\n",
    "overall_game_turns = []\n",
    "\n",
    "for i, player in enumerate(player_list):\n",
    "    player.ai.load_models('ai_h5/p%d_test09_%%s.h5' % i)\n",
    "\n"
   ]
  },
  {
   "cell_type": "code",
   "execution_count": 3,
   "metadata": {},
   "outputs": [],
   "source": [
    "def which_min(x):\n",
    "    min_val = min(x)\n",
    "    return x.index(min_val)\n",
    "\n",
    "def which_max(x):\n",
    "    max_val = max(x)\n",
    "    return x.index(max_val)\n",
    "\n",
    "def aid_weakest_ai(players, wins):\n",
    "    players[which_min(wins)].ai.receive_models_from_other_ai(players[which_max(wins)].ai)\n",
    "    "
   ]
  },
  {
   "cell_type": "code",
   "execution_count": 4,
   "metadata": {},
   "outputs": [
    {
     "name": "stdout",
     "output_type": "stream",
     "text": [
      "---TEMPERATURE: 0.100---\n",
      "+IDX=0+\n",
      "in cycle 0\n",
      "......................................................................................................................................................in cycle 1\n",
      "......................................................................................................................................................in cycle 2\n",
      "......................................................................................................................................................WINNING SCORE AVERAGE: 40.2\n",
      "NUMBER OF TURNS AVERAGE: 234.0\n",
      "---PLAYER 0 STATS---\n",
      "WIN AVERAGE: 0.000\n",
      "SCORE AVERAGE: -33.6\n",
      "---PLAYER 1 STATS---\n",
      "WIN AVERAGE: 0.260\n",
      "SCORE AVERAGE: 22.3\n",
      "---PLAYER 2 STATS---\n",
      "WIN AVERAGE: 0.291\n",
      "SCORE AVERAGE: 23.4\n",
      "---PLAYER 3 STATS---\n",
      "WIN AVERAGE: 0.222\n",
      "SCORE AVERAGE: 20.7\n",
      "---PLAYER 4 STATS---\n",
      "WIN AVERAGE: 0.240\n",
      "SCORE AVERAGE: 21.1\n",
      "---TEMPERATURE: 0.050---\n",
      "+IDX=1+\n",
      "in cycle 0\n",
      "......................................................................................................................................................in cycle 1\n",
      "......................................................................................................................................................in cycle 2\n",
      "......................................................................................................................................................WINNING SCORE AVERAGE: 41.7\n",
      "NUMBER OF TURNS AVERAGE: 231.2\n",
      "---PLAYER 0 STATS---\n",
      "WIN AVERAGE: 0.002\n",
      "SCORE AVERAGE: -31.6\n",
      "---PLAYER 1 STATS---\n",
      "WIN AVERAGE: 0.247\n",
      "SCORE AVERAGE: 23.0\n",
      "---PLAYER 2 STATS---\n",
      "WIN AVERAGE: 0.251\n",
      "SCORE AVERAGE: 24.2\n",
      "---PLAYER 3 STATS---\n",
      "WIN AVERAGE: 0.251\n",
      "SCORE AVERAGE: 23.4\n",
      "---PLAYER 4 STATS---\n",
      "WIN AVERAGE: 0.269\n",
      "SCORE AVERAGE: 24.0\n",
      "---TEMPERATURE: 0.010---\n",
      "+IDX=2+\n",
      "in cycle 0\n",
      "........"
     ]
    },
    {
     "name": "stderr",
     "output_type": "stream",
     "text": [
      "ai.py:414: RuntimeWarning: invalid value encountered in divide\n",
      "  return (selected)/np.sum(selected)\n"
     ]
    },
    {
     "name": "stdout",
     "output_type": "stream",
     "text": [
      "..................................."
     ]
    },
    {
     "name": "stderr",
     "output_type": "stream",
     "text": [
      "ai.py:386: RuntimeWarning: invalid value encountered in less\n",
      "  return np.random.choice(len(new_probs), p=new_probs)\n"
     ]
    },
    {
     "name": "stdout",
     "output_type": "stream",
     "text": [
      "...........................................................................................................in cycle 1\n",
      "......................................................................................................................................................in cycle 2\n",
      "......................................................................................................................................................WINNING SCORE AVERAGE: 44.8\n",
      "NUMBER OF TURNS AVERAGE: 226.0\n",
      "---PLAYER 0 STATS---\n",
      "WIN AVERAGE: 0.000\n",
      "SCORE AVERAGE: -23.8\n",
      "---PLAYER 1 STATS---\n",
      "WIN AVERAGE: 0.273\n",
      "SCORE AVERAGE: 28.0\n",
      "---PLAYER 2 STATS---\n",
      "WIN AVERAGE: 0.253\n",
      "SCORE AVERAGE: 27.0\n",
      "---PLAYER 3 STATS---\n",
      "WIN AVERAGE: 0.211\n",
      "SCORE AVERAGE: 24.9\n",
      "---PLAYER 4 STATS---\n",
      "WIN AVERAGE: 0.300\n",
      "SCORE AVERAGE: 28.2\n",
      "---TEMPERATURE: 0.010---\n",
      "+IDX=3+\n",
      "in cycle 0\n",
      "......................................................................................................................................................in cycle 1\n",
      "......................................................................................................................................................in cycle 2\n",
      "......................................................................................................................................................WINNING SCORE AVERAGE: 45.2\n",
      "NUMBER OF TURNS AVERAGE: 223.2\n",
      "---PLAYER 0 STATS---\n",
      "WIN AVERAGE: 0.004\n",
      "SCORE AVERAGE: -24.8\n",
      "---PLAYER 1 STATS---\n",
      "WIN AVERAGE: 0.291\n",
      "SCORE AVERAGE: 29.4\n",
      "---PLAYER 2 STATS---\n",
      "WIN AVERAGE: 0.244\n",
      "SCORE AVERAGE: 27.5\n",
      "---PLAYER 3 STATS---\n",
      "WIN AVERAGE: 0.253\n",
      "SCORE AVERAGE: 27.7\n",
      "---PLAYER 4 STATS---\n",
      "WIN AVERAGE: 0.244\n",
      "SCORE AVERAGE: 28.4\n",
      "---TEMPERATURE: 0.001---\n",
      "+IDX=4+\n",
      "in cycle 0\n",
      "......................................................................................................................................................in cycle 1\n",
      "......................................................................................................................................................in cycle 2\n",
      "......................................................................................................................................................WINNING SCORE AVERAGE: 51.3\n",
      "NUMBER OF TURNS AVERAGE: 217.8\n",
      "---PLAYER 0 STATS---\n",
      "WIN AVERAGE: 0.000\n",
      "SCORE AVERAGE: -18.6\n",
      "---PLAYER 1 STATS---\n",
      "WIN AVERAGE: 0.249\n",
      "SCORE AVERAGE: 31.9\n",
      "---PLAYER 2 STATS---\n",
      "WIN AVERAGE: 0.251\n",
      "SCORE AVERAGE: 32.5\n",
      "---PLAYER 3 STATS---\n",
      "WIN AVERAGE: 0.278\n",
      "SCORE AVERAGE: 33.5\n",
      "---PLAYER 4 STATS---\n",
      "WIN AVERAGE: 0.260\n",
      "SCORE AVERAGE: 31.7\n",
      "---TEMPERATURE: 0.000---\n",
      "+IDX=5+\n",
      "in cycle 0\n",
      "."
     ]
    },
    {
     "name": "stderr",
     "output_type": "stream",
     "text": [
      "ai.py:413: RuntimeWarning: overflow encountered in power\n",
      "  selected = x**(1./(temperature)**0.5)\n"
     ]
    },
    {
     "name": "stdout",
     "output_type": "stream",
     "text": [
      ".....................................................................................................................................................in cycle 1\n",
      "......................................................................................................................................................in cycle 2\n",
      "......................................................................................................................................................WINNING SCORE AVERAGE: 14.0\n",
      "NUMBER OF TURNS AVERAGE: 214.8\n",
      "---PLAYER 0 STATS---\n",
      "WIN AVERAGE: 0.058\n",
      "SCORE AVERAGE: -20.0\n",
      "---PLAYER 1 STATS---\n",
      "WIN AVERAGE: 0.236\n",
      "SCORE AVERAGE: -3.2\n",
      "---PLAYER 2 STATS---\n",
      "WIN AVERAGE: 0.231\n",
      "SCORE AVERAGE: -2.6\n",
      "---PLAYER 3 STATS---\n",
      "WIN AVERAGE: 0.280\n",
      "SCORE AVERAGE: -1.4\n",
      "---PLAYER 4 STATS---\n",
      "WIN AVERAGE: 0.231\n",
      "SCORE AVERAGE: -3.3\n",
      "---TEMPERATURE: 0.000---\n",
      "+IDX=6+\n",
      "in cycle 0\n",
      "..............................................................................................................................."
     ]
    },
    {
     "ename": "KeyboardInterrupt",
     "evalue": "",
     "output_type": "error",
     "traceback": [
      "\u001b[0;31m---------------------------------------------------------------------------\u001b[0m",
      "\u001b[0;31mKeyboardInterrupt\u001b[0m                         Traceback (most recent call last)",
      "\u001b[0;32m<ipython-input-4-97ee2a4222ad>\u001b[0m in \u001b[0;36m<module>\u001b[0;34m()\u001b[0m\n\u001b[1;32m     18\u001b[0m             \u001b[0mshuffle\u001b[0m\u001b[0;34m(\u001b[0m\u001b[0mplayers\u001b[0m\u001b[0;34m)\u001b[0m\u001b[0;34m\u001b[0m\u001b[0m\n\u001b[1;32m     19\u001b[0m             \u001b[0mgame\u001b[0m \u001b[0;34m=\u001b[0m \u001b[0mGame\u001b[0m\u001b[0;34m(\u001b[0m\u001b[0mpre_existing_players\u001b[0m\u001b[0;34m=\u001b[0m\u001b[0mplayers\u001b[0m\u001b[0;34m,\u001b[0m \u001b[0mconfig\u001b[0m\u001b[0;34m=\u001b[0m\u001b[0mtest_config\u001b[0m\u001b[0;34m,\u001b[0m \u001b[0mseparated_models\u001b[0m\u001b[0;34m=\u001b[0m\u001b[0mTrue\u001b[0m\u001b[0;34m)\u001b[0m\u001b[0;34m\u001b[0m\u001b[0m\n\u001b[0;32m---> 20\u001b[0;31m             \u001b[0mgame\u001b[0m\u001b[0;34m.\u001b[0m\u001b[0mrun\u001b[0m\u001b[0;34m(\u001b[0m\u001b[0mFalse\u001b[0m\u001b[0;34m)\u001b[0m\u001b[0;34m\u001b[0m\u001b[0m\n\u001b[0m\u001b[1;32m     21\u001b[0m             \u001b[0;32mfor\u001b[0m \u001b[0mi\u001b[0m\u001b[0;34m,\u001b[0m \u001b[0mplayer\u001b[0m \u001b[0;32min\u001b[0m \u001b[0menumerate\u001b[0m\u001b[0;34m(\u001b[0m\u001b[0mplayer_list\u001b[0m\u001b[0;34m)\u001b[0m\u001b[0;34m:\u001b[0m\u001b[0;34m\u001b[0m\u001b[0m\n\u001b[1;32m     22\u001b[0m                 \u001b[0mplayer_wins\u001b[0m\u001b[0;34m[\u001b[0m\u001b[0mi\u001b[0m\u001b[0;34m]\u001b[0m\u001b[0;34m+=\u001b[0m \u001b[0mplayer\u001b[0m\u001b[0;34m.\u001b[0m\u001b[0mwin\u001b[0m\u001b[0;34m\u001b[0m\u001b[0m\n",
      "\u001b[0;32m/ntfsl/workspace/ticket_ai/game.pyc\u001b[0m in \u001b[0;36mrun\u001b[0;34m(self, debug)\u001b[0m\n\u001b[1;32m     72\u001b[0m                                 \u001b[0;32mprint\u001b[0m \u001b[0;34m'turn %d'\u001b[0m \u001b[0;34m%\u001b[0m \u001b[0mself\u001b[0m\u001b[0;34m.\u001b[0m\u001b[0mturn\u001b[0m\u001b[0;34m\u001b[0m\u001b[0m\n\u001b[1;32m     73\u001b[0m                         \u001b[0mcurrent_player\u001b[0m \u001b[0;34m=\u001b[0m \u001b[0mself\u001b[0m\u001b[0;34m.\u001b[0m\u001b[0mplayers\u001b[0m\u001b[0;34m[\u001b[0m\u001b[0mself\u001b[0m\u001b[0;34m.\u001b[0m\u001b[0mturn\u001b[0m \u001b[0;34m%\u001b[0m \u001b[0mself\u001b[0m\u001b[0;34m.\u001b[0m\u001b[0mn_players\u001b[0m\u001b[0;34m]\u001b[0m\u001b[0;34m\u001b[0m\u001b[0m\n\u001b[0;32m---> 74\u001b[0;31m                         \u001b[0mcurrent_player\u001b[0m\u001b[0;34m.\u001b[0m\u001b[0mtake_turn\u001b[0m\u001b[0;34m(\u001b[0m\u001b[0;34m)\u001b[0m\u001b[0;34m\u001b[0m\u001b[0m\n\u001b[0m\u001b[1;32m     75\u001b[0m                         \u001b[0;32mif\u001b[0m \u001b[0mself\u001b[0m\u001b[0;34m.\u001b[0m\u001b[0mlast_round\u001b[0m\u001b[0;34m:\u001b[0m\u001b[0;34m\u001b[0m\u001b[0m\n\u001b[1;32m     76\u001b[0m                                 \u001b[0;32mif\u001b[0m \u001b[0mdebug\u001b[0m\u001b[0;34m:\u001b[0m\u001b[0;34m\u001b[0m\u001b[0m\n",
      "\u001b[0;32m/ntfsl/workspace/ticket_ai/player.pyc\u001b[0m in \u001b[0;36mtake_turn\u001b[0;34m(self)\u001b[0m\n\u001b[1;32m    371\u001b[0m                         \u001b[0mself\u001b[0m\u001b[0;34m.\u001b[0m\u001b[0mbegin_selecting_tickets\u001b[0m\u001b[0;34m(\u001b[0m\u001b[0;34m)\u001b[0m\u001b[0;34m\u001b[0m\u001b[0m\n\u001b[1;32m    372\u001b[0m                 \u001b[0;32melif\u001b[0m \u001b[0maction\u001b[0m\u001b[0;34m==\u001b[0m\u001b[0;34m'should_build_tracks'\u001b[0m\u001b[0;34m:\u001b[0m\u001b[0;34m\u001b[0m\u001b[0m\n\u001b[0;32m--> 373\u001b[0;31m                         \u001b[0mdata\u001b[0m \u001b[0;34m=\u001b[0m \u001b[0mself\u001b[0m\u001b[0;34m.\u001b[0m\u001b[0mai\u001b[0m\u001b[0;34m.\u001b[0m\u001b[0mdecide_on_tracks\u001b[0m\u001b[0;34m(\u001b[0m\u001b[0mself\u001b[0m\u001b[0;34m,\u001b[0m \u001b[0mpossible_tracks\u001b[0m\u001b[0;34m)\u001b[0m\u001b[0;34m\u001b[0m\u001b[0m\n\u001b[0m\u001b[1;32m    374\u001b[0m                         \u001b[0msegment\u001b[0m \u001b[0;34m=\u001b[0m \u001b[0mTRACKS\u001b[0m\u001b[0;34m[\u001b[0m\u001b[0mdata\u001b[0m\u001b[0;34m[\u001b[0m\u001b[0;34m'index'\u001b[0m\u001b[0;34m]\u001b[0m\u001b[0;34m]\u001b[0m\u001b[0;34m\u001b[0m\u001b[0m\n\u001b[1;32m    375\u001b[0m                         \u001b[0mcost\u001b[0m \u001b[0;34m=\u001b[0m \u001b[0mdata\u001b[0m\u001b[0;34m[\u001b[0m\u001b[0;34m'cost'\u001b[0m\u001b[0;34m]\u001b[0m\u001b[0;34m\u001b[0m\u001b[0m\n",
      "\u001b[0;32m/ntfsl/workspace/ticket_ai/ai.pyc\u001b[0m in \u001b[0;36mdecide_on_tracks\u001b[0;34m(self, player, possible_tracks)\u001b[0m\n\u001b[1;32m    226\u001b[0m                 \u001b[0mserializations\u001b[0m \u001b[0;34m=\u001b[0m \u001b[0mplayer\u001b[0m\u001b[0;34m.\u001b[0m\u001b[0mappend_serializations\u001b[0m\u001b[0;34m(\u001b[0m\u001b[0mserializations\u001b[0m\u001b[0;34m)\u001b[0m\u001b[0;34m\u001b[0m\u001b[0m\n\u001b[1;32m    227\u001b[0m                 \u001b[0;31m#calculate probs and q-scores\u001b[0m\u001b[0;34m\u001b[0m\u001b[0;34m\u001b[0m\u001b[0m\n\u001b[0;32m--> 228\u001b[0;31m                 \u001b[0mprobabilities\u001b[0m \u001b[0;34m=\u001b[0m \u001b[0mself\u001b[0m\u001b[0;34m.\u001b[0m\u001b[0mcalculate_probabilities\u001b[0m\u001b[0;34m(\u001b[0m\u001b[0mserializations\u001b[0m\u001b[0;34m,\u001b[0m \u001b[0mplayer\u001b[0m\u001b[0;34m)\u001b[0m\u001b[0;34m\u001b[0m\u001b[0m\n\u001b[0m\u001b[1;32m    229\u001b[0m                 \u001b[0mq_scores\u001b[0m \u001b[0;34m=\u001b[0m \u001b[0mself\u001b[0m\u001b[0;34m.\u001b[0m\u001b[0mcalculate_q_scores\u001b[0m\u001b[0;34m(\u001b[0m\u001b[0mserializations\u001b[0m\u001b[0;34m,\u001b[0m \u001b[0mplayer\u001b[0m\u001b[0;34m)\u001b[0m\u001b[0;34m\u001b[0m\u001b[0m\n\u001b[1;32m    230\u001b[0m \u001b[0;34m\u001b[0m\u001b[0m\n",
      "\u001b[0;32m/ntfsl/workspace/ticket_ai/ai.pyc\u001b[0m in \u001b[0;36mcalculate_probabilities\u001b[0;34m(self, serializations, player, ticket_combos)\u001b[0m\n\u001b[1;32m    348\u001b[0m                 \u001b[0mplayer\u001b[0m\u001b[0;34m.\u001b[0m\u001b[0mgame\u001b[0m\u001b[0;34m.\u001b[0m\u001b[0mmi\u001b[0m \u001b[0;34m=\u001b[0m \u001b[0mmodel_inputs\u001b[0m\u001b[0;34m\u001b[0m\u001b[0m\n\u001b[1;32m    349\u001b[0m                 \u001b[0;31m#print model_inputs\u001b[0m\u001b[0;34m\u001b[0m\u001b[0;34m\u001b[0m\u001b[0m\n\u001b[0;32m--> 350\u001b[0;31m                 \u001b[0mpreds\u001b[0m \u001b[0;34m=\u001b[0m \u001b[0mself\u001b[0m\u001b[0;34m.\u001b[0m\u001b[0mwin_model\u001b[0m\u001b[0;34m.\u001b[0m\u001b[0mpredict\u001b[0m\u001b[0;34m(\u001b[0m\u001b[0mmodel_inputs\u001b[0m\u001b[0;34m)\u001b[0m\u001b[0;34m\u001b[0m\u001b[0m\n\u001b[0m\u001b[1;32m    351\u001b[0m                 \u001b[0;31m#print 'made preds'\u001b[0m\u001b[0;34m\u001b[0m\u001b[0;34m\u001b[0m\u001b[0m\n\u001b[1;32m    352\u001b[0m                 \u001b[0;32mreturn\u001b[0m \u001b[0mpreds\u001b[0m\u001b[0;34m[\u001b[0m\u001b[0;34m:\u001b[0m\u001b[0;34m,\u001b[0m\u001b[0;36m0\u001b[0m\u001b[0;34m]\u001b[0m\u001b[0;34m\u001b[0m\u001b[0m\n",
      "\u001b[0;32m/usr/local/lib/python2.7/dist-packages/keras/engine/training.pyc\u001b[0m in \u001b[0;36mpredict\u001b[0;34m(self, x, batch_size, verbose, steps)\u001b[0m\n\u001b[1;32m   1763\u001b[0m         \u001b[0mf\u001b[0m \u001b[0;34m=\u001b[0m \u001b[0mself\u001b[0m\u001b[0;34m.\u001b[0m\u001b[0mpredict_function\u001b[0m\u001b[0;34m\u001b[0m\u001b[0m\n\u001b[1;32m   1764\u001b[0m         return self._predict_loop(f, ins, batch_size=batch_size,\n\u001b[0;32m-> 1765\u001b[0;31m                                   verbose=verbose, steps=steps)\n\u001b[0m\u001b[1;32m   1766\u001b[0m \u001b[0;34m\u001b[0m\u001b[0m\n\u001b[1;32m   1767\u001b[0m     def train_on_batch(self, x, y,\n",
      "\u001b[0;32m/usr/local/lib/python2.7/dist-packages/keras/engine/training.pyc\u001b[0m in \u001b[0;36m_predict_loop\u001b[0;34m(self, f, ins, batch_size, verbose, steps)\u001b[0m\n\u001b[1;32m   1297\u001b[0m                 \u001b[0;32melse\u001b[0m\u001b[0;34m:\u001b[0m\u001b[0;34m\u001b[0m\u001b[0m\n\u001b[1;32m   1298\u001b[0m                     \u001b[0mins_batch\u001b[0m \u001b[0;34m=\u001b[0m \u001b[0m_slice_arrays\u001b[0m\u001b[0;34m(\u001b[0m\u001b[0mins\u001b[0m\u001b[0;34m,\u001b[0m \u001b[0mbatch_ids\u001b[0m\u001b[0;34m)\u001b[0m\u001b[0;34m\u001b[0m\u001b[0m\n\u001b[0;32m-> 1299\u001b[0;31m                 \u001b[0mbatch_outs\u001b[0m \u001b[0;34m=\u001b[0m \u001b[0mf\u001b[0m\u001b[0;34m(\u001b[0m\u001b[0mins_batch\u001b[0m\u001b[0;34m)\u001b[0m\u001b[0;34m\u001b[0m\u001b[0m\n\u001b[0m\u001b[1;32m   1300\u001b[0m                 \u001b[0;32mif\u001b[0m \u001b[0;32mnot\u001b[0m \u001b[0misinstance\u001b[0m\u001b[0;34m(\u001b[0m\u001b[0mbatch_outs\u001b[0m\u001b[0;34m,\u001b[0m \u001b[0mlist\u001b[0m\u001b[0;34m)\u001b[0m\u001b[0;34m:\u001b[0m\u001b[0;34m\u001b[0m\u001b[0m\n\u001b[1;32m   1301\u001b[0m                     \u001b[0mbatch_outs\u001b[0m \u001b[0;34m=\u001b[0m \u001b[0;34m[\u001b[0m\u001b[0mbatch_outs\u001b[0m\u001b[0;34m]\u001b[0m\u001b[0;34m\u001b[0m\u001b[0m\n",
      "\u001b[0;32m/usr/local/lib/python2.7/dist-packages/keras/backend/tensorflow_backend.pyc\u001b[0m in \u001b[0;36m__call__\u001b[0;34m(self, inputs)\u001b[0m\n\u001b[1;32m   2350\u001b[0m         \u001b[0msession\u001b[0m \u001b[0;34m=\u001b[0m \u001b[0mget_session\u001b[0m\u001b[0;34m(\u001b[0m\u001b[0;34m)\u001b[0m\u001b[0;34m\u001b[0m\u001b[0m\n\u001b[1;32m   2351\u001b[0m         updated = session.run(fetches=fetches, feed_dict=feed_dict,\n\u001b[0;32m-> 2352\u001b[0;31m                               **self.session_kwargs)\n\u001b[0m\u001b[1;32m   2353\u001b[0m         \u001b[0;32mreturn\u001b[0m \u001b[0mupdated\u001b[0m\u001b[0;34m[\u001b[0m\u001b[0;34m:\u001b[0m\u001b[0mlen\u001b[0m\u001b[0;34m(\u001b[0m\u001b[0mself\u001b[0m\u001b[0;34m.\u001b[0m\u001b[0moutputs\u001b[0m\u001b[0;34m)\u001b[0m\u001b[0;34m]\u001b[0m\u001b[0;34m\u001b[0m\u001b[0m\n\u001b[1;32m   2354\u001b[0m \u001b[0;34m\u001b[0m\u001b[0m\n",
      "\u001b[0;32m/usr/local/lib/python2.7/dist-packages/tensorflow/python/client/session.pyc\u001b[0m in \u001b[0;36mrun\u001b[0;34m(self, fetches, feed_dict, options, run_metadata)\u001b[0m\n\u001b[1;32m    887\u001b[0m     \u001b[0;32mtry\u001b[0m\u001b[0;34m:\u001b[0m\u001b[0;34m\u001b[0m\u001b[0m\n\u001b[1;32m    888\u001b[0m       result = self._run(None, fetches, feed_dict, options_ptr,\n\u001b[0;32m--> 889\u001b[0;31m                          run_metadata_ptr)\n\u001b[0m\u001b[1;32m    890\u001b[0m       \u001b[0;32mif\u001b[0m \u001b[0mrun_metadata\u001b[0m\u001b[0;34m:\u001b[0m\u001b[0;34m\u001b[0m\u001b[0m\n\u001b[1;32m    891\u001b[0m         \u001b[0mproto_data\u001b[0m \u001b[0;34m=\u001b[0m \u001b[0mtf_session\u001b[0m\u001b[0;34m.\u001b[0m\u001b[0mTF_GetBuffer\u001b[0m\u001b[0;34m(\u001b[0m\u001b[0mrun_metadata_ptr\u001b[0m\u001b[0;34m)\u001b[0m\u001b[0;34m\u001b[0m\u001b[0m\n",
      "\u001b[0;32m/usr/local/lib/python2.7/dist-packages/tensorflow/python/client/session.pyc\u001b[0m in \u001b[0;36m_run\u001b[0;34m(self, handle, fetches, feed_dict, options, run_metadata)\u001b[0m\n\u001b[1;32m   1090\u001b[0m \u001b[0;34m\u001b[0m\u001b[0m\n\u001b[1;32m   1091\u001b[0m           if (not is_tensor_handle_feed and\n\u001b[0;32m-> 1092\u001b[0;31m               not subfeed_t.get_shape().is_compatible_with(np_val.shape)):\n\u001b[0m\u001b[1;32m   1093\u001b[0m             raise ValueError(\n\u001b[1;32m   1094\u001b[0m                 \u001b[0;34m'Cannot feed value of shape %r for Tensor %r, '\u001b[0m\u001b[0;34m\u001b[0m\u001b[0m\n",
      "\u001b[0;32m/usr/local/lib/python2.7/dist-packages/tensorflow/python/framework/tensor_shape.pyc\u001b[0m in \u001b[0;36mis_compatible_with\u001b[0;34m(self, other)\u001b[0m\n\u001b[1;32m    733\u001b[0m       \u001b[0;32mif\u001b[0m \u001b[0mself\u001b[0m\u001b[0;34m.\u001b[0m\u001b[0mndims\u001b[0m \u001b[0;34m!=\u001b[0m \u001b[0mother\u001b[0m\u001b[0;34m.\u001b[0m\u001b[0mndims\u001b[0m\u001b[0;34m:\u001b[0m\u001b[0;34m\u001b[0m\u001b[0m\n\u001b[1;32m    734\u001b[0m         \u001b[0;32mreturn\u001b[0m \u001b[0mFalse\u001b[0m\u001b[0;34m\u001b[0m\u001b[0m\n\u001b[0;32m--> 735\u001b[0;31m       \u001b[0;32mfor\u001b[0m \u001b[0mx_dim\u001b[0m\u001b[0;34m,\u001b[0m \u001b[0my_dim\u001b[0m \u001b[0;32min\u001b[0m \u001b[0mzip\u001b[0m\u001b[0;34m(\u001b[0m\u001b[0mself\u001b[0m\u001b[0;34m.\u001b[0m\u001b[0m_dims\u001b[0m\u001b[0;34m,\u001b[0m \u001b[0mother\u001b[0m\u001b[0;34m.\u001b[0m\u001b[0mdims\u001b[0m\u001b[0;34m)\u001b[0m\u001b[0;34m:\u001b[0m\u001b[0;34m\u001b[0m\u001b[0m\n\u001b[0m\u001b[1;32m    736\u001b[0m         \u001b[0;32mif\u001b[0m \u001b[0;32mnot\u001b[0m \u001b[0mx_dim\u001b[0m\u001b[0;34m.\u001b[0m\u001b[0mis_compatible_with\u001b[0m\u001b[0;34m(\u001b[0m\u001b[0my_dim\u001b[0m\u001b[0;34m)\u001b[0m\u001b[0;34m:\u001b[0m\u001b[0;34m\u001b[0m\u001b[0m\n\u001b[1;32m    737\u001b[0m           \u001b[0;32mreturn\u001b[0m \u001b[0mFalse\u001b[0m\u001b[0;34m\u001b[0m\u001b[0m\n",
      "\u001b[0;31mKeyboardInterrupt\u001b[0m: "
     ]
    }
   ],
   "source": [
    "temperatures = [ 0.1, 0.05, 0.01, 0.01, 0.001, 0.00001, 0.00001, 0., 0., 0.]\n",
    "n_trials_per_cycle = 150\n",
    "n_cycles = 3\n",
    "\n",
    "for temp_index, temperature in enumerate(temperatures):\n",
    "    print '---TEMPERATURE: %.03f---' % temperature\n",
    "    print '+IDX=%d+' % temp_index\n",
    "    test_config['discount'] = (2+temp_index)/11.\n",
    "    test_config['temperature'] = temperature\n",
    "    player_wins = [0 for _ in players]\n",
    "    winning_scores = []\n",
    "    player_scores = [[] for _ in players]\n",
    "    game_turns = []\n",
    "    for cycle in range(n_cycles):\n",
    "        print 'in cycle %d' % cycle\n",
    "        for i in range(n_trials_per_cycle):\n",
    "            sys.stdout.write('.')\n",
    "            shuffle(players)\n",
    "            game = Game(pre_existing_players=players, config=test_config, separated_models=True)\n",
    "            game.run(False)\n",
    "            for i, player in enumerate(player_list):\n",
    "                player_wins[i]+= player.win\n",
    "                player_scores[i].append(player.total_points)\n",
    "            winning_scores.append(game.winning_score)\n",
    "            game_turns.append(game.turn)\n",
    "        #don't train player 0, train player 1 partially, and train players 2 and 3 much more\n",
    "        for i, player in enumerate(player_list):\n",
    "            if i==1:\n",
    "                player.ai.train_win()\n",
    "                player.ai.train_q()\n",
    "            elif i > 1:\n",
    "                player.ai.train_win(20)\n",
    "                player.ai.train_q(20)\n",
    "    for player in player_list:\n",
    "        player.ai.reset_history()\n",
    "    aid_weakest_ai(player_list[1:], player_wins[1:])\n",
    "    overall_player_wins.append(player_wins)\n",
    "    overall_player_scores.append(player_scores)\n",
    "    overall_winning_scores.append(winning_scores)\n",
    "    overall_game_turns.append(game_turns)\n",
    "    #print out some summaries\n",
    "    print 'WINNING SCORE AVERAGE: %.1f' % np.mean(winning_scores)\n",
    "    print 'NUMBER OF TURNS AVERAGE: %.1f' % np.mean(game_turns)\n",
    "    for i, player in enumerate(player_list):\n",
    "        print '---PLAYER %d STATS---' % i\n",
    "        print 'WIN AVERAGE: %.3f' % (np.mean(player_wins[i])/(float(n_trials_per_cycle*n_cycles)))\n",
    "        print 'SCORE AVERAGE: %.1f' % np.mean(player_scores[i])\n",
    "        "
   ]
  },
  {
   "cell_type": "markdown",
   "metadata": {},
   "source": [
    "in the discount = 7/11 iteration, moving from 0.001 to 0.000 temperature, the score worsened.\n",
    "\n",
    "I will try limiting the discount to around 0.5, and also try increasing the q-lag so that rewards can be slightly delayed"
   ]
  },
  {
   "cell_type": "code",
   "execution_count": null,
   "metadata": {},
   "outputs": [],
   "source": [
    "print game.turn\n",
    "print i\n",
    "print cycle\n",
    "print temp_index\n",
    "for player in players:\n",
    "    print player\n",
    "    print len(player.determine_possible_tracks())"
   ]
  },
  {
   "cell_type": "code",
   "execution_count": null,
   "metadata": {},
   "outputs": [],
   "source": [
    "np.mean(overall_winning_scores,1)"
   ]
  },
  {
   "cell_type": "code",
   "execution_count": null,
   "metadata": {},
   "outputs": [],
   "source": [
    "np.mean(overall_player_scores, ( 2,))"
   ]
  },
  {
   "cell_type": "code",
   "execution_count": 5,
   "metadata": {},
   "outputs": [],
   "source": [
    "for i, player in enumerate(player_list):\n",
    "    player.ai.save_models('ai_h5/p%d_test10_%%s.h5' % i)"
   ]
  },
  {
   "cell_type": "markdown",
   "metadata": {},
   "source": []
  },
  {
   "cell_type": "code",
   "execution_count": null,
   "metadata": {},
   "outputs": [],
   "source": [
    "for player in player_list:\n",
    "    print player"
   ]
  },
  {
   "cell_type": "markdown",
   "metadata": {},
   "source": []
  }
 ],
 "metadata": {
  "kernelspec": {
   "display_name": "Python 2",
   "language": "python",
   "name": "python2"
  },
  "language_info": {
   "codemirror_mode": {
    "name": "ipython",
    "version": 2
   },
   "file_extension": ".py",
   "mimetype": "text/x-python",
   "name": "python",
   "nbconvert_exporter": "python",
   "pygments_lexer": "ipython2",
   "version": "2.7.12"
  }
 },
 "nbformat": 4,
 "nbformat_minor": 2
}
